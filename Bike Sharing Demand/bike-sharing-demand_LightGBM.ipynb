{
 "cells": [
  {
   "cell_type": "markdown",
   "metadata": {},
   "source": [
    "# Bike Sharing Demand"
   ]
  },
  {
   "cell_type": "code",
   "execution_count": 1,
   "metadata": {},
   "outputs": [],
   "source": [
    "import pandas as pd"
   ]
  },
  {
   "cell_type": "markdown",
   "metadata": {},
   "source": [
    "## Load Dataset"
   ]
  },
  {
   "cell_type": "code",
   "execution_count": 4,
   "metadata": {},
   "outputs": [
    {
     "name": "stdout",
     "output_type": "stream",
     "text": [
      "(10886, 12)\n"
     ]
    },
    {
     "data": {
      "text/html": [
       "<div>\n",
       "<style scoped>\n",
       "    .dataframe tbody tr th:only-of-type {\n",
       "        vertical-align: middle;\n",
       "    }\n",
       "\n",
       "    .dataframe tbody tr th {\n",
       "        vertical-align: top;\n",
       "    }\n",
       "\n",
       "    .dataframe thead th {\n",
       "        text-align: right;\n",
       "    }\n",
       "</style>\n",
       "<table border=\"1\" class=\"dataframe\">\n",
       "  <thead>\n",
       "    <tr style=\"text-align: right;\">\n",
       "      <th></th>\n",
       "      <th>datetime</th>\n",
       "      <th>season</th>\n",
       "      <th>holiday</th>\n",
       "      <th>workingday</th>\n",
       "      <th>weather</th>\n",
       "      <th>temp</th>\n",
       "      <th>atemp</th>\n",
       "      <th>humidity</th>\n",
       "      <th>windspeed</th>\n",
       "      <th>casual</th>\n",
       "      <th>registered</th>\n",
       "      <th>count</th>\n",
       "    </tr>\n",
       "  </thead>\n",
       "  <tbody>\n",
       "    <tr>\n",
       "      <th>0</th>\n",
       "      <td>2011-01-01 00:00:00</td>\n",
       "      <td>1</td>\n",
       "      <td>0</td>\n",
       "      <td>0</td>\n",
       "      <td>1</td>\n",
       "      <td>9.84</td>\n",
       "      <td>14.395</td>\n",
       "      <td>81</td>\n",
       "      <td>0.0</td>\n",
       "      <td>3</td>\n",
       "      <td>13</td>\n",
       "      <td>16</td>\n",
       "    </tr>\n",
       "    <tr>\n",
       "      <th>1</th>\n",
       "      <td>2011-01-01 01:00:00</td>\n",
       "      <td>1</td>\n",
       "      <td>0</td>\n",
       "      <td>0</td>\n",
       "      <td>1</td>\n",
       "      <td>9.02</td>\n",
       "      <td>13.635</td>\n",
       "      <td>80</td>\n",
       "      <td>0.0</td>\n",
       "      <td>8</td>\n",
       "      <td>32</td>\n",
       "      <td>40</td>\n",
       "    </tr>\n",
       "    <tr>\n",
       "      <th>2</th>\n",
       "      <td>2011-01-01 02:00:00</td>\n",
       "      <td>1</td>\n",
       "      <td>0</td>\n",
       "      <td>0</td>\n",
       "      <td>1</td>\n",
       "      <td>9.02</td>\n",
       "      <td>13.635</td>\n",
       "      <td>80</td>\n",
       "      <td>0.0</td>\n",
       "      <td>5</td>\n",
       "      <td>27</td>\n",
       "      <td>32</td>\n",
       "    </tr>\n",
       "    <tr>\n",
       "      <th>3</th>\n",
       "      <td>2011-01-01 03:00:00</td>\n",
       "      <td>1</td>\n",
       "      <td>0</td>\n",
       "      <td>0</td>\n",
       "      <td>1</td>\n",
       "      <td>9.84</td>\n",
       "      <td>14.395</td>\n",
       "      <td>75</td>\n",
       "      <td>0.0</td>\n",
       "      <td>3</td>\n",
       "      <td>10</td>\n",
       "      <td>13</td>\n",
       "    </tr>\n",
       "    <tr>\n",
       "      <th>4</th>\n",
       "      <td>2011-01-01 04:00:00</td>\n",
       "      <td>1</td>\n",
       "      <td>0</td>\n",
       "      <td>0</td>\n",
       "      <td>1</td>\n",
       "      <td>9.84</td>\n",
       "      <td>14.395</td>\n",
       "      <td>75</td>\n",
       "      <td>0.0</td>\n",
       "      <td>0</td>\n",
       "      <td>1</td>\n",
       "      <td>1</td>\n",
       "    </tr>\n",
       "  </tbody>\n",
       "</table>\n",
       "</div>"
      ],
      "text/plain": [
       "             datetime  season  holiday  workingday  weather  temp   atemp  \\\n",
       "0 2011-01-01 00:00:00       1        0           0        1  9.84  14.395   \n",
       "1 2011-01-01 01:00:00       1        0           0        1  9.02  13.635   \n",
       "2 2011-01-01 02:00:00       1        0           0        1  9.02  13.635   \n",
       "3 2011-01-01 03:00:00       1        0           0        1  9.84  14.395   \n",
       "4 2011-01-01 04:00:00       1        0           0        1  9.84  14.395   \n",
       "\n",
       "   humidity  windspeed  casual  registered  count  \n",
       "0        81        0.0       3          13     16  \n",
       "1        80        0.0       8          32     40  \n",
       "2        80        0.0       5          27     32  \n",
       "3        75        0.0       3          10     13  \n",
       "4        75        0.0       0           1      1  "
      ]
     },
     "execution_count": 4,
     "metadata": {},
     "output_type": "execute_result"
    }
   ],
   "source": [
    "train = pd.read_csv(\"data/train.csv\", parse_dates=[\"datetime\"])\n",
    "\n",
    "print(train.shape)\n",
    "\n",
    "train.head()"
   ]
  },
  {
   "cell_type": "code",
   "execution_count": 6,
   "metadata": {},
   "outputs": [
    {
     "name": "stdout",
     "output_type": "stream",
     "text": [
      "(6493, 9)\n"
     ]
    },
    {
     "data": {
      "text/html": [
       "<div>\n",
       "<style scoped>\n",
       "    .dataframe tbody tr th:only-of-type {\n",
       "        vertical-align: middle;\n",
       "    }\n",
       "\n",
       "    .dataframe tbody tr th {\n",
       "        vertical-align: top;\n",
       "    }\n",
       "\n",
       "    .dataframe thead th {\n",
       "        text-align: right;\n",
       "    }\n",
       "</style>\n",
       "<table border=\"1\" class=\"dataframe\">\n",
       "  <thead>\n",
       "    <tr style=\"text-align: right;\">\n",
       "      <th></th>\n",
       "      <th>datetime</th>\n",
       "      <th>season</th>\n",
       "      <th>holiday</th>\n",
       "      <th>workingday</th>\n",
       "      <th>weather</th>\n",
       "      <th>temp</th>\n",
       "      <th>atemp</th>\n",
       "      <th>humidity</th>\n",
       "      <th>windspeed</th>\n",
       "    </tr>\n",
       "  </thead>\n",
       "  <tbody>\n",
       "    <tr>\n",
       "      <th>0</th>\n",
       "      <td>2011-01-20 00:00:00</td>\n",
       "      <td>1</td>\n",
       "      <td>0</td>\n",
       "      <td>1</td>\n",
       "      <td>1</td>\n",
       "      <td>10.66</td>\n",
       "      <td>11.365</td>\n",
       "      <td>56</td>\n",
       "      <td>26.0027</td>\n",
       "    </tr>\n",
       "    <tr>\n",
       "      <th>1</th>\n",
       "      <td>2011-01-20 01:00:00</td>\n",
       "      <td>1</td>\n",
       "      <td>0</td>\n",
       "      <td>1</td>\n",
       "      <td>1</td>\n",
       "      <td>10.66</td>\n",
       "      <td>13.635</td>\n",
       "      <td>56</td>\n",
       "      <td>0.0000</td>\n",
       "    </tr>\n",
       "    <tr>\n",
       "      <th>2</th>\n",
       "      <td>2011-01-20 02:00:00</td>\n",
       "      <td>1</td>\n",
       "      <td>0</td>\n",
       "      <td>1</td>\n",
       "      <td>1</td>\n",
       "      <td>10.66</td>\n",
       "      <td>13.635</td>\n",
       "      <td>56</td>\n",
       "      <td>0.0000</td>\n",
       "    </tr>\n",
       "    <tr>\n",
       "      <th>3</th>\n",
       "      <td>2011-01-20 03:00:00</td>\n",
       "      <td>1</td>\n",
       "      <td>0</td>\n",
       "      <td>1</td>\n",
       "      <td>1</td>\n",
       "      <td>10.66</td>\n",
       "      <td>12.880</td>\n",
       "      <td>56</td>\n",
       "      <td>11.0014</td>\n",
       "    </tr>\n",
       "    <tr>\n",
       "      <th>4</th>\n",
       "      <td>2011-01-20 04:00:00</td>\n",
       "      <td>1</td>\n",
       "      <td>0</td>\n",
       "      <td>1</td>\n",
       "      <td>1</td>\n",
       "      <td>10.66</td>\n",
       "      <td>12.880</td>\n",
       "      <td>56</td>\n",
       "      <td>11.0014</td>\n",
       "    </tr>\n",
       "  </tbody>\n",
       "</table>\n",
       "</div>"
      ],
      "text/plain": [
       "             datetime  season  holiday  workingday  weather   temp   atemp  \\\n",
       "0 2011-01-20 00:00:00       1        0           1        1  10.66  11.365   \n",
       "1 2011-01-20 01:00:00       1        0           1        1  10.66  13.635   \n",
       "2 2011-01-20 02:00:00       1        0           1        1  10.66  13.635   \n",
       "3 2011-01-20 03:00:00       1        0           1        1  10.66  12.880   \n",
       "4 2011-01-20 04:00:00       1        0           1        1  10.66  12.880   \n",
       "\n",
       "   humidity  windspeed  \n",
       "0        56    26.0027  \n",
       "1        56     0.0000  \n",
       "2        56     0.0000  \n",
       "3        56    11.0014  \n",
       "4        56    11.0014  "
      ]
     },
     "execution_count": 6,
     "metadata": {},
     "output_type": "execute_result"
    }
   ],
   "source": [
    "test = pd.read_csv(\"data/test.csv\", parse_dates=[\"datetime\"])\n",
    "\n",
    "print(test.shape)\n",
    "\n",
    "test.head()"
   ]
  },
  {
   "cell_type": "markdown",
   "metadata": {},
   "source": [
    "## Preprocessing"
   ]
  },
  {
   "cell_type": "markdown",
   "metadata": {},
   "source": [
    "### Parse datetime"
   ]
  },
  {
   "cell_type": "code",
   "execution_count": 9,
   "metadata": {},
   "outputs": [
    {
     "name": "stdout",
     "output_type": "stream",
     "text": [
      "(10886, 20)\n"
     ]
    },
    {
     "data": {
      "text/html": [
       "<div>\n",
       "<style scoped>\n",
       "    .dataframe tbody tr th:only-of-type {\n",
       "        vertical-align: middle;\n",
       "    }\n",
       "\n",
       "    .dataframe tbody tr th {\n",
       "        vertical-align: top;\n",
       "    }\n",
       "\n",
       "    .dataframe thead th {\n",
       "        text-align: right;\n",
       "    }\n",
       "</style>\n",
       "<table border=\"1\" class=\"dataframe\">\n",
       "  <thead>\n",
       "    <tr style=\"text-align: right;\">\n",
       "      <th></th>\n",
       "      <th>datetime</th>\n",
       "      <th>datetime-year</th>\n",
       "      <th>datetime-month</th>\n",
       "      <th>datetime-day</th>\n",
       "      <th>datetime-hour</th>\n",
       "      <th>datetime-minute</th>\n",
       "      <th>datetime-second</th>\n",
       "      <th>datetime-dayofweek</th>\n",
       "    </tr>\n",
       "  </thead>\n",
       "  <tbody>\n",
       "    <tr>\n",
       "      <th>0</th>\n",
       "      <td>2011-01-01 00:00:00</td>\n",
       "      <td>2011</td>\n",
       "      <td>1</td>\n",
       "      <td>1</td>\n",
       "      <td>0</td>\n",
       "      <td>0</td>\n",
       "      <td>0</td>\n",
       "      <td>5</td>\n",
       "    </tr>\n",
       "    <tr>\n",
       "      <th>1</th>\n",
       "      <td>2011-01-01 01:00:00</td>\n",
       "      <td>2011</td>\n",
       "      <td>1</td>\n",
       "      <td>1</td>\n",
       "      <td>1</td>\n",
       "      <td>0</td>\n",
       "      <td>0</td>\n",
       "      <td>5</td>\n",
       "    </tr>\n",
       "    <tr>\n",
       "      <th>2</th>\n",
       "      <td>2011-01-01 02:00:00</td>\n",
       "      <td>2011</td>\n",
       "      <td>1</td>\n",
       "      <td>1</td>\n",
       "      <td>2</td>\n",
       "      <td>0</td>\n",
       "      <td>0</td>\n",
       "      <td>5</td>\n",
       "    </tr>\n",
       "    <tr>\n",
       "      <th>3</th>\n",
       "      <td>2011-01-01 03:00:00</td>\n",
       "      <td>2011</td>\n",
       "      <td>1</td>\n",
       "      <td>1</td>\n",
       "      <td>3</td>\n",
       "      <td>0</td>\n",
       "      <td>0</td>\n",
       "      <td>5</td>\n",
       "    </tr>\n",
       "    <tr>\n",
       "      <th>4</th>\n",
       "      <td>2011-01-01 04:00:00</td>\n",
       "      <td>2011</td>\n",
       "      <td>1</td>\n",
       "      <td>1</td>\n",
       "      <td>4</td>\n",
       "      <td>0</td>\n",
       "      <td>0</td>\n",
       "      <td>5</td>\n",
       "    </tr>\n",
       "  </tbody>\n",
       "</table>\n",
       "</div>"
      ],
      "text/plain": [
       "             datetime  datetime-year  datetime-month  datetime-day  \\\n",
       "0 2011-01-01 00:00:00           2011               1             1   \n",
       "1 2011-01-01 01:00:00           2011               1             1   \n",
       "2 2011-01-01 02:00:00           2011               1             1   \n",
       "3 2011-01-01 03:00:00           2011               1             1   \n",
       "4 2011-01-01 04:00:00           2011               1             1   \n",
       "\n",
       "   datetime-hour  datetime-minute  datetime-second  datetime-dayofweek  \n",
       "0              0                0                0                   5  \n",
       "1              1                0                0                   5  \n",
       "2              2                0                0                   5  \n",
       "3              3                0                0                   5  \n",
       "4              4                0                0                   5  "
      ]
     },
     "execution_count": 9,
     "metadata": {},
     "output_type": "execute_result"
    }
   ],
   "source": [
    "train[\"datetime-year\"] = train[\"datetime\"].dt.year\n",
    "train[\"datetime-month\"] = train[\"datetime\"].dt.month\n",
    "train[\"datetime-day\"] = train[\"datetime\"].dt.day\n",
    "train[\"datetime-hour\"] = train[\"datetime\"].dt.hour\n",
    "train[\"datetime-minute\"] = train[\"datetime\"].dt.minute\n",
    "train[\"datetime-second\"] = train[\"datetime\"].dt.second\n",
    "\n",
    "train[\"datetime-dayofweek\"] = train[\"datetime\"].dt.dayofweek\n",
    "\n",
    "print(train.shape)\n",
    "\n",
    "train[[\"datetime\", \"datetime-year\", \"datetime-month\", \"datetime-day\", \"datetime-hour\", \"datetime-minute\", \"datetime-second\", \"datetime-dayofweek\"]].head()"
   ]
  },
  {
   "cell_type": "code",
   "execution_count": 10,
   "metadata": {},
   "outputs": [
    {
     "name": "stdout",
     "output_type": "stream",
     "text": [
      "(10886, 20)\n"
     ]
    },
    {
     "data": {
      "text/html": [
       "<div>\n",
       "<style scoped>\n",
       "    .dataframe tbody tr th:only-of-type {\n",
       "        vertical-align: middle;\n",
       "    }\n",
       "\n",
       "    .dataframe tbody tr th {\n",
       "        vertical-align: top;\n",
       "    }\n",
       "\n",
       "    .dataframe thead th {\n",
       "        text-align: right;\n",
       "    }\n",
       "</style>\n",
       "<table border=\"1\" class=\"dataframe\">\n",
       "  <thead>\n",
       "    <tr style=\"text-align: right;\">\n",
       "      <th></th>\n",
       "      <th>datetime</th>\n",
       "      <th>datetime-dayofweek</th>\n",
       "      <th>datetime-dayofweek(humanized)</th>\n",
       "    </tr>\n",
       "  </thead>\n",
       "  <tbody>\n",
       "    <tr>\n",
       "      <th>0</th>\n",
       "      <td>2011-01-01 00:00:00</td>\n",
       "      <td>5</td>\n",
       "      <td>Saturday</td>\n",
       "    </tr>\n",
       "    <tr>\n",
       "      <th>1</th>\n",
       "      <td>2011-01-01 01:00:00</td>\n",
       "      <td>5</td>\n",
       "      <td>Saturday</td>\n",
       "    </tr>\n",
       "    <tr>\n",
       "      <th>2</th>\n",
       "      <td>2011-01-01 02:00:00</td>\n",
       "      <td>5</td>\n",
       "      <td>Saturday</td>\n",
       "    </tr>\n",
       "    <tr>\n",
       "      <th>3</th>\n",
       "      <td>2011-01-01 03:00:00</td>\n",
       "      <td>5</td>\n",
       "      <td>Saturday</td>\n",
       "    </tr>\n",
       "    <tr>\n",
       "      <th>4</th>\n",
       "      <td>2011-01-01 04:00:00</td>\n",
       "      <td>5</td>\n",
       "      <td>Saturday</td>\n",
       "    </tr>\n",
       "  </tbody>\n",
       "</table>\n",
       "</div>"
      ],
      "text/plain": [
       "             datetime  datetime-dayofweek datetime-dayofweek(humanized)\n",
       "0 2011-01-01 00:00:00                   5                      Saturday\n",
       "1 2011-01-01 01:00:00                   5                      Saturday\n",
       "2 2011-01-01 02:00:00                   5                      Saturday\n",
       "3 2011-01-01 03:00:00                   5                      Saturday\n",
       "4 2011-01-01 04:00:00                   5                      Saturday"
      ]
     },
     "execution_count": 10,
     "metadata": {},
     "output_type": "execute_result"
    }
   ],
   "source": [
    "train.loc[train[\"datetime-dayofweek\"] == 0, \"datetime-dayofweek(humanized)\"] = \"Monday\"\n",
    "train.loc[train[\"datetime-dayofweek\"] == 1, \"datetime-dayofweek(humanized)\"] = \"Tuesday\"\n",
    "train.loc[train[\"datetime-dayofweek\"] == 2, \"datetime-dayofweek(humanized)\"] = \"Wednesday\"\n",
    "train.loc[train[\"datetime-dayofweek\"] == 3, \"datetime-dayofweek(humanized)\"] = \"Thursday\"\n",
    "train.loc[train[\"datetime-dayofweek\"] == 4, \"datetime-dayofweek(humanized)\"] = \"Friday\"\n",
    "train.loc[train[\"datetime-dayofweek\"] == 5, \"datetime-dayofweek(humanized)\"] = \"Saturday\"\n",
    "train.loc[train[\"datetime-dayofweek\"] == 6, \"datetime-dayofweek(humanized)\"] = \"Sunday\"\n",
    "\n",
    "print(train.shape)\n",
    "\n",
    "train[[\"datetime\", \"datetime-dayofweek\", \"datetime-dayofweek(humanized)\"]].head()"
   ]
  },
  {
   "cell_type": "code",
   "execution_count": 11,
   "metadata": {},
   "outputs": [
    {
     "name": "stdout",
     "output_type": "stream",
     "text": [
      "(6493, 16)\n"
     ]
    },
    {
     "data": {
      "text/html": [
       "<div>\n",
       "<style scoped>\n",
       "    .dataframe tbody tr th:only-of-type {\n",
       "        vertical-align: middle;\n",
       "    }\n",
       "\n",
       "    .dataframe tbody tr th {\n",
       "        vertical-align: top;\n",
       "    }\n",
       "\n",
       "    .dataframe thead th {\n",
       "        text-align: right;\n",
       "    }\n",
       "</style>\n",
       "<table border=\"1\" class=\"dataframe\">\n",
       "  <thead>\n",
       "    <tr style=\"text-align: right;\">\n",
       "      <th></th>\n",
       "      <th>datetime</th>\n",
       "      <th>datetime-year</th>\n",
       "      <th>datetime-month</th>\n",
       "      <th>datetime-day</th>\n",
       "      <th>datetime-hour</th>\n",
       "      <th>datetime-minute</th>\n",
       "      <th>datetime-second</th>\n",
       "      <th>datetime-dayofweek</th>\n",
       "    </tr>\n",
       "  </thead>\n",
       "  <tbody>\n",
       "    <tr>\n",
       "      <th>0</th>\n",
       "      <td>2011-01-20 00:00:00</td>\n",
       "      <td>2011</td>\n",
       "      <td>1</td>\n",
       "      <td>20</td>\n",
       "      <td>0</td>\n",
       "      <td>0</td>\n",
       "      <td>0</td>\n",
       "      <td>3</td>\n",
       "    </tr>\n",
       "    <tr>\n",
       "      <th>1</th>\n",
       "      <td>2011-01-20 01:00:00</td>\n",
       "      <td>2011</td>\n",
       "      <td>1</td>\n",
       "      <td>20</td>\n",
       "      <td>1</td>\n",
       "      <td>0</td>\n",
       "      <td>0</td>\n",
       "      <td>3</td>\n",
       "    </tr>\n",
       "    <tr>\n",
       "      <th>2</th>\n",
       "      <td>2011-01-20 02:00:00</td>\n",
       "      <td>2011</td>\n",
       "      <td>1</td>\n",
       "      <td>20</td>\n",
       "      <td>2</td>\n",
       "      <td>0</td>\n",
       "      <td>0</td>\n",
       "      <td>3</td>\n",
       "    </tr>\n",
       "    <tr>\n",
       "      <th>3</th>\n",
       "      <td>2011-01-20 03:00:00</td>\n",
       "      <td>2011</td>\n",
       "      <td>1</td>\n",
       "      <td>20</td>\n",
       "      <td>3</td>\n",
       "      <td>0</td>\n",
       "      <td>0</td>\n",
       "      <td>3</td>\n",
       "    </tr>\n",
       "    <tr>\n",
       "      <th>4</th>\n",
       "      <td>2011-01-20 04:00:00</td>\n",
       "      <td>2011</td>\n",
       "      <td>1</td>\n",
       "      <td>20</td>\n",
       "      <td>4</td>\n",
       "      <td>0</td>\n",
       "      <td>0</td>\n",
       "      <td>3</td>\n",
       "    </tr>\n",
       "  </tbody>\n",
       "</table>\n",
       "</div>"
      ],
      "text/plain": [
       "             datetime  datetime-year  datetime-month  datetime-day  \\\n",
       "0 2011-01-20 00:00:00           2011               1            20   \n",
       "1 2011-01-20 01:00:00           2011               1            20   \n",
       "2 2011-01-20 02:00:00           2011               1            20   \n",
       "3 2011-01-20 03:00:00           2011               1            20   \n",
       "4 2011-01-20 04:00:00           2011               1            20   \n",
       "\n",
       "   datetime-hour  datetime-minute  datetime-second  datetime-dayofweek  \n",
       "0              0                0                0                   3  \n",
       "1              1                0                0                   3  \n",
       "2              2                0                0                   3  \n",
       "3              3                0                0                   3  \n",
       "4              4                0                0                   3  "
      ]
     },
     "execution_count": 11,
     "metadata": {},
     "output_type": "execute_result"
    }
   ],
   "source": [
    "test[\"datetime-year\"] = test[\"datetime\"].dt.year\n",
    "test[\"datetime-month\"] = test[\"datetime\"].dt.month\n",
    "test[\"datetime-day\"] = test[\"datetime\"].dt.day\n",
    "test[\"datetime-hour\"] = test[\"datetime\"].dt.hour\n",
    "test[\"datetime-minute\"] = test[\"datetime\"].dt.minute\n",
    "test[\"datetime-second\"] = test[\"datetime\"].dt.second\n",
    "\n",
    "test[\"datetime-dayofweek\"] = test[\"datetime\"].dt.dayofweek\n",
    "\n",
    "print(test.shape)\n",
    "\n",
    "test[[\"datetime\", \"datetime-year\", \"datetime-month\", \"datetime-day\", \"datetime-hour\", \"datetime-minute\", \"datetime-second\", \"datetime-dayofweek\"]].head()"
   ]
  },
  {
   "cell_type": "code",
   "execution_count": 12,
   "metadata": {},
   "outputs": [
    {
     "name": "stdout",
     "output_type": "stream",
     "text": [
      "(6493, 17)\n"
     ]
    },
    {
     "data": {
      "text/html": [
       "<div>\n",
       "<style scoped>\n",
       "    .dataframe tbody tr th:only-of-type {\n",
       "        vertical-align: middle;\n",
       "    }\n",
       "\n",
       "    .dataframe tbody tr th {\n",
       "        vertical-align: top;\n",
       "    }\n",
       "\n",
       "    .dataframe thead th {\n",
       "        text-align: right;\n",
       "    }\n",
       "</style>\n",
       "<table border=\"1\" class=\"dataframe\">\n",
       "  <thead>\n",
       "    <tr style=\"text-align: right;\">\n",
       "      <th></th>\n",
       "      <th>datetime</th>\n",
       "      <th>datetime-dayofweek</th>\n",
       "      <th>datetime-dayofweek(humanized)</th>\n",
       "    </tr>\n",
       "  </thead>\n",
       "  <tbody>\n",
       "    <tr>\n",
       "      <th>0</th>\n",
       "      <td>2011-01-20 00:00:00</td>\n",
       "      <td>3</td>\n",
       "      <td>Thursday</td>\n",
       "    </tr>\n",
       "    <tr>\n",
       "      <th>1</th>\n",
       "      <td>2011-01-20 01:00:00</td>\n",
       "      <td>3</td>\n",
       "      <td>Thursday</td>\n",
       "    </tr>\n",
       "    <tr>\n",
       "      <th>2</th>\n",
       "      <td>2011-01-20 02:00:00</td>\n",
       "      <td>3</td>\n",
       "      <td>Thursday</td>\n",
       "    </tr>\n",
       "    <tr>\n",
       "      <th>3</th>\n",
       "      <td>2011-01-20 03:00:00</td>\n",
       "      <td>3</td>\n",
       "      <td>Thursday</td>\n",
       "    </tr>\n",
       "    <tr>\n",
       "      <th>4</th>\n",
       "      <td>2011-01-20 04:00:00</td>\n",
       "      <td>3</td>\n",
       "      <td>Thursday</td>\n",
       "    </tr>\n",
       "  </tbody>\n",
       "</table>\n",
       "</div>"
      ],
      "text/plain": [
       "             datetime  datetime-dayofweek datetime-dayofweek(humanized)\n",
       "0 2011-01-20 00:00:00                   3                      Thursday\n",
       "1 2011-01-20 01:00:00                   3                      Thursday\n",
       "2 2011-01-20 02:00:00                   3                      Thursday\n",
       "3 2011-01-20 03:00:00                   3                      Thursday\n",
       "4 2011-01-20 04:00:00                   3                      Thursday"
      ]
     },
     "execution_count": 12,
     "metadata": {},
     "output_type": "execute_result"
    }
   ],
   "source": [
    "test.loc[test[\"datetime-dayofweek\"] == 0, \"datetime-dayofweek(humanized)\"] = \"Monday\"\n",
    "test.loc[test[\"datetime-dayofweek\"] == 1, \"datetime-dayofweek(humanized)\"] = \"Tuesday\"\n",
    "test.loc[test[\"datetime-dayofweek\"] == 2, \"datetime-dayofweek(humanized)\"] = \"Wednesday\"\n",
    "test.loc[test[\"datetime-dayofweek\"] == 3, \"datetime-dayofweek(humanized)\"] = \"Thursday\"\n",
    "test.loc[test[\"datetime-dayofweek\"] == 4, \"datetime-dayofweek(humanized)\"] = \"Friday\"\n",
    "test.loc[test[\"datetime-dayofweek\"] == 5, \"datetime-dayofweek(humanized)\"] = \"Saturday\"\n",
    "test.loc[test[\"datetime-dayofweek\"] == 6, \"datetime-dayofweek(humanized)\"] = \"Sunday\"\n",
    "\n",
    "print(test.shape)\n",
    "\n",
    "test[[\"datetime\", \"datetime-dayofweek\", \"datetime-dayofweek(humanized)\"]].head()"
   ]
  },
  {
   "cell_type": "markdown",
   "metadata": {},
   "source": [
    "## Explore"
   ]
  },
  {
   "cell_type": "code",
   "execution_count": 13,
   "metadata": {},
   "outputs": [],
   "source": [
    "%matplotlib inline\n",
    "\n",
    "import seaborn as sns\n",
    "import matplotlib.pyplot as plt"
   ]
  },
  {
   "cell_type": "markdown",
   "metadata": {},
   "source": [
    "### datetime"
   ]
  },
  {
   "cell_type": "code",
   "execution_count": 14,
   "metadata": {},
   "outputs": [
    {
     "data": {
      "text/plain": [
       "<matplotlib.axes._subplots.AxesSubplot at 0x1efc9388748>"
      ]
     },
     "execution_count": 14,
     "metadata": {},
     "output_type": "execute_result"
    },
    {
     "data": {
      "image/png": "[encoded data removed]",
      "text/plain": [
       "<Figure size 1296x576 with 6 Axes>"
      ]
     },
     "metadata": {
      "needs_background": "light"
     },
     "output_type": "display_data"
    }
   ],
   "source": [
    "figure, ((ax1, ax2, ax3), (ax4, ax5, ax6)) = plt.subplots(nrows=2, ncols=3)\n",
    "figure.set_size_inches(18, 8)\n",
    "\n",
    "sns.barplot(data=train, x=\"datetime-year\", y=\"count\", ax=ax1)\n",
    "sns.barplot(data=train, x=\"datetime-month\", y=\"count\", ax=ax2)\n",
    "sns.barplot(data=train, x=\"datetime-day\", y=\"count\", ax=ax3)\n",
    "sns.barplot(data=train, x=\"datetime-hour\", y=\"count\", ax=ax4)\n",
    "sns.barplot(data=train, x=\"datetime-minute\", y=\"count\", ax=ax5)\n",
    "sns.barplot(data=train, x=\"datetime-second\", y=\"count\", ax=ax6)"
   ]
  },
  {
   "cell_type": "markdown",
   "metadata": {},
   "source": [
    "### datetime-year & datetime-month"
   ]
  },
  {
   "cell_type": "code",
   "execution_count": 15,
   "metadata": {},
   "outputs": [
    {
     "name": "stdout",
     "output_type": "stream",
     "text": [
      "(10886, 23)\n"
     ]
    },
    {
     "data": {
      "text/html": [
       "<div>\n",
       "<style scoped>\n",
       "    .dataframe tbody tr th:only-of-type {\n",
       "        vertical-align: middle;\n",
       "    }\n",
       "\n",
       "    .dataframe tbody tr th {\n",
       "        vertical-align: top;\n",
       "    }\n",
       "\n",
       "    .dataframe thead th {\n",
       "        text-align: right;\n",
       "    }\n",
       "</style>\n",
       "<table border=\"1\" class=\"dataframe\">\n",
       "  <thead>\n",
       "    <tr style=\"text-align: right;\">\n",
       "      <th></th>\n",
       "      <th>datetime</th>\n",
       "      <th>datetime-year_month</th>\n",
       "    </tr>\n",
       "  </thead>\n",
       "  <tbody>\n",
       "    <tr>\n",
       "      <th>0</th>\n",
       "      <td>2011-01-01 00:00:00</td>\n",
       "      <td>2011-1</td>\n",
       "    </tr>\n",
       "    <tr>\n",
       "      <th>1</th>\n",
       "      <td>2011-01-01 01:00:00</td>\n",
       "      <td>2011-1</td>\n",
       "    </tr>\n",
       "    <tr>\n",
       "      <th>2</th>\n",
       "      <td>2011-01-01 02:00:00</td>\n",
       "      <td>2011-1</td>\n",
       "    </tr>\n",
       "    <tr>\n",
       "      <th>3</th>\n",
       "      <td>2011-01-01 03:00:00</td>\n",
       "      <td>2011-1</td>\n",
       "    </tr>\n",
       "    <tr>\n",
       "      <th>4</th>\n",
       "      <td>2011-01-01 04:00:00</td>\n",
       "      <td>2011-1</td>\n",
       "    </tr>\n",
       "  </tbody>\n",
       "</table>\n",
       "</div>"
      ],
      "text/plain": [
       "             datetime datetime-year_month\n",
       "0 2011-01-01 00:00:00              2011-1\n",
       "1 2011-01-01 01:00:00              2011-1\n",
       "2 2011-01-01 02:00:00              2011-1\n",
       "3 2011-01-01 03:00:00              2011-1\n",
       "4 2011-01-01 04:00:00              2011-1"
      ]
     },
     "execution_count": 15,
     "metadata": {},
     "output_type": "execute_result"
    }
   ],
   "source": [
    "train[\"datetime-year(str)\"] = train[\"datetime-year\"].astype('str')\n",
    "train[\"datetime-month(str)\"] = train[\"datetime-month\"].astype('str')\n",
    "\n",
    "train[\"datetime-year_month\"] = train[\"datetime-year(str)\"] + \"-\" + train[\"datetime-month(str)\"]\n",
    "\n",
    "print(train.shape)\n",
    "\n",
    "train[[\"datetime\", \"datetime-year_month\"]].head()"
   ]
  },
  {
   "cell_type": "code",
   "execution_count": 16,
   "metadata": {},
   "outputs": [
    {
     "data": {
      "text/plain": [
       "<matplotlib.axes._subplots.AxesSubplot at 0x1efc96c04e0>"
      ]
     },
     "execution_count": 16,
     "metadata": {},
     "output_type": "execute_result"
    },
    {
     "data": {
      "image/png": "[encoded data removed]",
      "text/plain": [
       "<Figure size 1296x288 with 2 Axes>"
      ]
     },
     "metadata": {
      "needs_background": "light"
     },
     "output_type": "display_data"
    },
    {
     "data": {
      "image/png": "[encoded data removed]",
      "text/plain": [
       "<Figure size 1296x288 with 1 Axes>"
      ]
     },
     "metadata": {
      "needs_background": "light"
     },
     "output_type": "display_data"
    }
   ],
   "source": [
    "figure, (ax1, ax2) = plt.subplots(nrows=1, ncols=2)\n",
    "\n",
    "figure.set_size_inches(18, 4)\n",
    "\n",
    "sns.barplot(data=train, x=\"datetime-year\", y=\"count\", ax=ax1)\n",
    "sns.barplot(data=train, x=\"datetime-month\", y=\"count\", ax=ax2)\n",
    "\n",
    "figure, ax3 = plt.subplots(nrows=1, ncols=1)\n",
    "\n",
    "figure.set_size_inches(18, 4)\n",
    "\n",
    "sns.barplot(data=train, x=\"datetime-year_month\", y=\"count\", ax=ax3)"
   ]
  },
  {
   "cell_type": "markdown",
   "metadata": {},
   "source": [
    "### datetime-hour"
   ]
  },
  {
   "cell_type": "code",
   "execution_count": 17,
   "metadata": {},
   "outputs": [
    {
     "data": {
      "text/plain": [
       "<matplotlib.axes._subplots.AxesSubplot at 0x1efc9d6db38>"
      ]
     },
     "execution_count": 17,
     "metadata": {},
     "output_type": "execute_result"
    },
    {
     "data": {
      "image/png": "[encoded data removed]",
      "text/plain": [
       "<Figure size 1296x864 with 3 Axes>"
      ]
     },
     "metadata": {
      "needs_background": "light"
     },
     "output_type": "display_data"
    }
   ],
   "source": [
    "figure, (ax1, ax2, ax3) = plt.subplots(nrows=3, ncols=1)\n",
    "\n",
    "figure.set_size_inches(18, 12)\n",
    "\n",
    "sns.pointplot(data=train, x=\"datetime-hour\", y=\"count\", ax=ax1)\n",
    "sns.pointplot(data=train, x=\"datetime-hour\", y=\"count\", hue=\"workingday\", ax=ax2)\n",
    "sns.pointplot(data=train, x=\"datetime-hour\", y=\"count\", hue=\"datetime-dayofweek(humanized)\", ax=ax3)"
   ]
  },
  {
   "cell_type": "markdown",
   "metadata": {},
   "source": [
    "### count"
   ]
  },
  {
   "cell_type": "code",
   "execution_count": 18,
   "metadata": {},
   "outputs": [
    {
     "data": {
      "text/plain": [
       "<matplotlib.axes._subplots.AxesSubplot at 0x1efc9d907b8>"
      ]
     },
     "execution_count": 18,
     "metadata": {},
     "output_type": "execute_result"
    },
    {
     "data": {
      "image/png": "[encoded data removed]",
      "text/plain": [
       "<Figure size 432x288 with 1 Axes>"
      ]
     },
     "metadata": {
      "needs_background": "light"
     },
     "output_type": "display_data"
    }
   ],
   "source": [
    "sns.distplot(train[\"count\"])"
   ]
  },
  {
   "cell_type": "code",
   "execution_count": 20,
   "metadata": {},
   "outputs": [
    {
     "name": "stdout",
     "output_type": "stream",
     "text": [
      "(10886, 24)\n"
     ]
    },
    {
     "data": {
      "text/html": [
       "<div>\n",
       "<style scoped>\n",
       "    .dataframe tbody tr th:only-of-type {\n",
       "        vertical-align: middle;\n",
       "    }\n",
       "\n",
       "    .dataframe tbody tr th {\n",
       "        vertical-align: top;\n",
       "    }\n",
       "\n",
       "    .dataframe thead th {\n",
       "        text-align: right;\n",
       "    }\n",
       "</style>\n",
       "<table border=\"1\" class=\"dataframe\">\n",
       "  <thead>\n",
       "    <tr style=\"text-align: right;\">\n",
       "      <th></th>\n",
       "      <th>count</th>\n",
       "      <th>log_count</th>\n",
       "    </tr>\n",
       "  </thead>\n",
       "  <tbody>\n",
       "    <tr>\n",
       "      <th>0</th>\n",
       "      <td>16</td>\n",
       "      <td>2.833213</td>\n",
       "    </tr>\n",
       "    <tr>\n",
       "      <th>1</th>\n",
       "      <td>40</td>\n",
       "      <td>3.713572</td>\n",
       "    </tr>\n",
       "    <tr>\n",
       "      <th>2</th>\n",
       "      <td>32</td>\n",
       "      <td>3.496508</td>\n",
       "    </tr>\n",
       "    <tr>\n",
       "      <th>3</th>\n",
       "      <td>13</td>\n",
       "      <td>2.639057</td>\n",
       "    </tr>\n",
       "    <tr>\n",
       "      <th>4</th>\n",
       "      <td>1</td>\n",
       "      <td>0.693147</td>\n",
       "    </tr>\n",
       "  </tbody>\n",
       "</table>\n",
       "</div>"
      ],
      "text/plain": [
       "   count  log_count\n",
       "0     16   2.833213\n",
       "1     40   3.713572\n",
       "2     32   3.496508\n",
       "3     13   2.639057\n",
       "4      1   0.693147"
      ]
     },
     "execution_count": 20,
     "metadata": {},
     "output_type": "execute_result"
    }
   ],
   "source": [
    "import numpy as np\n",
    "train[\"log_count\"] = np.log(train[\"count\"] + 1)\n",
    "\n",
    "print(train.shape)\n",
    "\n",
    "train[[\"count\", \"log_count\"]].head()"
   ]
  },
  {
   "cell_type": "code",
   "execution_count": 21,
   "metadata": {},
   "outputs": [
    {
     "data": {
      "text/plain": [
       "<matplotlib.axes._subplots.AxesSubplot at 0x1efca1dc518>"
      ]
     },
     "execution_count": 21,
     "metadata": {},
     "output_type": "execute_result"
    },
    {
     "data": {
      "image/png": "[encoded data removed]",
      "text/plain": [
       "<Figure size 1296x288 with 2 Axes>"
      ]
     },
     "metadata": {
      "needs_background": "light"
     },
     "output_type": "display_data"
    }
   ],
   "source": [
    "figure, (ax1, ax2) = plt.subplots(nrows=1, ncols=2)\n",
    "\n",
    "figure.set_size_inches(18, 4)\n",
    "\n",
    "sns.distplot(train[\"count\"], ax=ax1)\n",
    "sns.distplot(train[\"log_count\"], ax=ax2)"
   ]
  },
  {
   "cell_type": "code",
   "execution_count": 22,
   "metadata": {},
   "outputs": [
    {
     "name": "stdout",
     "output_type": "stream",
     "text": [
      "(10886, 25)\n"
     ]
    },
    {
     "data": {
      "text/html": [
       "<div>\n",
       "<style scoped>\n",
       "    .dataframe tbody tr th:only-of-type {\n",
       "        vertical-align: middle;\n",
       "    }\n",
       "\n",
       "    .dataframe tbody tr th {\n",
       "        vertical-align: top;\n",
       "    }\n",
       "\n",
       "    .dataframe thead th {\n",
       "        text-align: right;\n",
       "    }\n",
       "</style>\n",
       "<table border=\"1\" class=\"dataframe\">\n",
       "  <thead>\n",
       "    <tr style=\"text-align: right;\">\n",
       "      <th></th>\n",
       "      <th>count</th>\n",
       "      <th>log_count</th>\n",
       "      <th>count(recover)</th>\n",
       "    </tr>\n",
       "  </thead>\n",
       "  <tbody>\n",
       "    <tr>\n",
       "      <th>0</th>\n",
       "      <td>16</td>\n",
       "      <td>2.833213</td>\n",
       "      <td>16.0</td>\n",
       "    </tr>\n",
       "    <tr>\n",
       "      <th>1</th>\n",
       "      <td>40</td>\n",
       "      <td>3.713572</td>\n",
       "      <td>40.0</td>\n",
       "    </tr>\n",
       "    <tr>\n",
       "      <th>2</th>\n",
       "      <td>32</td>\n",
       "      <td>3.496508</td>\n",
       "      <td>32.0</td>\n",
       "    </tr>\n",
       "    <tr>\n",
       "      <th>3</th>\n",
       "      <td>13</td>\n",
       "      <td>2.639057</td>\n",
       "      <td>13.0</td>\n",
       "    </tr>\n",
       "    <tr>\n",
       "      <th>4</th>\n",
       "      <td>1</td>\n",
       "      <td>0.693147</td>\n",
       "      <td>1.0</td>\n",
       "    </tr>\n",
       "  </tbody>\n",
       "</table>\n",
       "</div>"
      ],
      "text/plain": [
       "   count  log_count  count(recover)\n",
       "0     16   2.833213            16.0\n",
       "1     40   3.713572            40.0\n",
       "2     32   3.496508            32.0\n",
       "3     13   2.639057            13.0\n",
       "4      1   0.693147             1.0"
      ]
     },
     "execution_count": 22,
     "metadata": {},
     "output_type": "execute_result"
    }
   ],
   "source": [
    "train[\"count(recover)\"] = np.exp(train[\"log_count\"]) - 1\n",
    "\n",
    "print(train.shape)\n",
    "\n",
    "train[[\"count\", \"log_count\", \"count(recover)\"]].head()"
   ]
  },
  {
   "cell_type": "code",
   "execution_count": 23,
   "metadata": {},
   "outputs": [
    {
     "data": {
      "text/plain": [
       "<matplotlib.axes._subplots.AxesSubplot at 0x1efca30e240>"
      ]
     },
     "execution_count": 23,
     "metadata": {},
     "output_type": "execute_result"
    },
    {
     "data": {
      "image/png": "[encoded data removed]",
      "text/plain": [
       "<Figure size 1296x288 with 3 Axes>"
      ]
     },
     "metadata": {
      "needs_background": "light"
     },
     "output_type": "display_data"
    }
   ],
   "source": [
    "figure, (ax1, ax2, ax3) = plt.subplots(nrows=1, ncols=3)\n",
    "\n",
    "figure.set_size_inches(18, 4)\n",
    "\n",
    "sns.distplot(train[\"count\"], ax=ax1)\n",
    "sns.distplot(train[\"log_count\"], ax=ax2)\n",
    "sns.distplot(train[\"count(recover)\"], ax=ax3)"
   ]
  },
  {
   "cell_type": "markdown",
   "metadata": {},
   "source": [
    "## Train"
   ]
  },
  {
   "cell_type": "code",
   "execution_count": 24,
   "metadata": {},
   "outputs": [
    {
     "data": {
      "text/plain": [
       "['season',\n",
       " 'holiday',\n",
       " 'workingday',\n",
       " 'weather',\n",
       " 'temp',\n",
       " 'atemp',\n",
       " 'humidity',\n",
       " 'windspeed',\n",
       " 'datetime-year',\n",
       " 'datetime-hour',\n",
       " 'datetime-dayofweek']"
      ]
     },
     "execution_count": 24,
     "metadata": {},
     "output_type": "execute_result"
    }
   ],
   "source": [
    "feature_names = [\"season\", \"holiday\", \"workingday\", \"weather\",\n",
    "                 \"temp\", \"atemp\", \"humidity\", \"windspeed\",\n",
    "                 \"datetime-year\", \"datetime-hour\", \"datetime-dayofweek\"]\n",
    "feature_names"
   ]
  },
  {
   "cell_type": "code",
   "execution_count": 25,
   "metadata": {},
   "outputs": [
    {
     "data": {
      "text/plain": [
       "'log_count'"
      ]
     },
     "execution_count": 25,
     "metadata": {},
     "output_type": "execute_result"
    }
   ],
   "source": [
    "label_name = \"log_count\"\n",
    "label_name"
   ]
  },
  {
   "cell_type": "code",
   "execution_count": 26,
   "metadata": {},
   "outputs": [
    {
     "name": "stdout",
     "output_type": "stream",
     "text": [
      "(10886, 11)\n"
     ]
    },
    {
     "data": {
      "text/html": [
       "<div>\n",
       "<style scoped>\n",
       "    .dataframe tbody tr th:only-of-type {\n",
       "        vertical-align: middle;\n",
       "    }\n",
       "\n",
       "    .dataframe tbody tr th {\n",
       "        vertical-align: top;\n",
       "    }\n",
       "\n",
       "    .dataframe thead th {\n",
       "        text-align: right;\n",
       "    }\n",
       "</style>\n",
       "<table border=\"1\" class=\"dataframe\">\n",
       "  <thead>\n",
       "    <tr style=\"text-align: right;\">\n",
       "      <th></th>\n",
       "      <th>season</th>\n",
       "      <th>holiday</th>\n",
       "      <th>workingday</th>\n",
       "      <th>weather</th>\n",
       "      <th>temp</th>\n",
       "      <th>atemp</th>\n",
       "      <th>humidity</th>\n",
       "      <th>windspeed</th>\n",
       "      <th>datetime-year</th>\n",
       "      <th>datetime-hour</th>\n",
       "      <th>datetime-dayofweek</th>\n",
       "    </tr>\n",
       "  </thead>\n",
       "  <tbody>\n",
       "    <tr>\n",
       "      <th>0</th>\n",
       "      <td>1</td>\n",
       "      <td>0</td>\n",
       "      <td>0</td>\n",
       "      <td>1</td>\n",
       "      <td>9.84</td>\n",
       "      <td>14.395</td>\n",
       "      <td>81</td>\n",
       "      <td>0.0</td>\n",
       "      <td>2011</td>\n",
       "      <td>0</td>\n",
       "      <td>5</td>\n",
       "    </tr>\n",
       "    <tr>\n",
       "      <th>1</th>\n",
       "      <td>1</td>\n",
       "      <td>0</td>\n",
       "      <td>0</td>\n",
       "      <td>1</td>\n",
       "      <td>9.02</td>\n",
       "      <td>13.635</td>\n",
       "      <td>80</td>\n",
       "      <td>0.0</td>\n",
       "      <td>2011</td>\n",
       "      <td>1</td>\n",
       "      <td>5</td>\n",
       "    </tr>\n",
       "    <tr>\n",
       "      <th>2</th>\n",
       "      <td>1</td>\n",
       "      <td>0</td>\n",
       "      <td>0</td>\n",
       "      <td>1</td>\n",
       "      <td>9.02</td>\n",
       "      <td>13.635</td>\n",
       "      <td>80</td>\n",
       "      <td>0.0</td>\n",
       "      <td>2011</td>\n",
       "      <td>2</td>\n",
       "      <td>5</td>\n",
       "    </tr>\n",
       "    <tr>\n",
       "      <th>3</th>\n",
       "      <td>1</td>\n",
       "      <td>0</td>\n",
       "      <td>0</td>\n",
       "      <td>1</td>\n",
       "      <td>9.84</td>\n",
       "      <td>14.395</td>\n",
       "      <td>75</td>\n",
       "      <td>0.0</td>\n",
       "      <td>2011</td>\n",
       "      <td>3</td>\n",
       "      <td>5</td>\n",
       "    </tr>\n",
       "    <tr>\n",
       "      <th>4</th>\n",
       "      <td>1</td>\n",
       "      <td>0</td>\n",
       "      <td>0</td>\n",
       "      <td>1</td>\n",
       "      <td>9.84</td>\n",
       "      <td>14.395</td>\n",
       "      <td>75</td>\n",
       "      <td>0.0</td>\n",
       "      <td>2011</td>\n",
       "      <td>4</td>\n",
       "      <td>5</td>\n",
       "    </tr>\n",
       "  </tbody>\n",
       "</table>\n",
       "</div>"
      ],
      "text/plain": [
       "   season  holiday  workingday  weather  temp   atemp  humidity  windspeed  \\\n",
       "0       1        0           0        1  9.84  14.395        81        0.0   \n",
       "1       1        0           0        1  9.02  13.635        80        0.0   \n",
       "2       1        0           0        1  9.02  13.635        80        0.0   \n",
       "3       1        0           0        1  9.84  14.395        75        0.0   \n",
       "4       1        0           0        1  9.84  14.395        75        0.0   \n",
       "\n",
       "   datetime-year  datetime-hour  datetime-dayofweek  \n",
       "0           2011              0                   5  \n",
       "1           2011              1                   5  \n",
       "2           2011              2                   5  \n",
       "3           2011              3                   5  \n",
       "4           2011              4                   5  "
      ]
     },
     "execution_count": 26,
     "metadata": {},
     "output_type": "execute_result"
    }
   ],
   "source": [
    "X_train = train[feature_names]\n",
    "\n",
    "print(X_train.shape)\n",
    "\n",
    "X_train.head()"
   ]
  },
  {
   "cell_type": "code",
   "execution_count": 27,
   "metadata": {},
   "outputs": [
    {
     "name": "stdout",
     "output_type": "stream",
     "text": [
      "(6493, 11)\n"
     ]
    },
    {
     "data": {
      "text/html": [
       "<div>\n",
       "<style scoped>\n",
       "    .dataframe tbody tr th:only-of-type {\n",
       "        vertical-align: middle;\n",
       "    }\n",
       "\n",
       "    .dataframe tbody tr th {\n",
       "        vertical-align: top;\n",
       "    }\n",
       "\n",
       "    .dataframe thead th {\n",
       "        text-align: right;\n",
       "    }\n",
       "</style>\n",
       "<table border=\"1\" class=\"dataframe\">\n",
       "  <thead>\n",
       "    <tr style=\"text-align: right;\">\n",
       "      <th></th>\n",
       "      <th>season</th>\n",
       "      <th>holiday</th>\n",
       "      <th>workingday</th>\n",
       "      <th>weather</th>\n",
       "      <th>temp</th>\n",
       "      <th>atemp</th>\n",
       "      <th>humidity</th>\n",
       "      <th>windspeed</th>\n",
       "      <th>datetime-year</th>\n",
       "      <th>datetime-hour</th>\n",
       "      <th>datetime-dayofweek</th>\n",
       "    </tr>\n",
       "  </thead>\n",
       "  <tbody>\n",
       "    <tr>\n",
       "      <th>0</th>\n",
       "      <td>1</td>\n",
       "      <td>0</td>\n",
       "      <td>1</td>\n",
       "      <td>1</td>\n",
       "      <td>10.66</td>\n",
       "      <td>11.365</td>\n",
       "      <td>56</td>\n",
       "      <td>26.0027</td>\n",
       "      <td>2011</td>\n",
       "      <td>0</td>\n",
       "      <td>3</td>\n",
       "    </tr>\n",
       "    <tr>\n",
       "      <th>1</th>\n",
       "      <td>1</td>\n",
       "      <td>0</td>\n",
       "      <td>1</td>\n",
       "      <td>1</td>\n",
       "      <td>10.66</td>\n",
       "      <td>13.635</td>\n",
       "      <td>56</td>\n",
       "      <td>0.0000</td>\n",
       "      <td>2011</td>\n",
       "      <td>1</td>\n",
       "      <td>3</td>\n",
       "    </tr>\n",
       "    <tr>\n",
       "      <th>2</th>\n",
       "      <td>1</td>\n",
       "      <td>0</td>\n",
       "      <td>1</td>\n",
       "      <td>1</td>\n",
       "      <td>10.66</td>\n",
       "      <td>13.635</td>\n",
       "      <td>56</td>\n",
       "      <td>0.0000</td>\n",
       "      <td>2011</td>\n",
       "      <td>2</td>\n",
       "      <td>3</td>\n",
       "    </tr>\n",
       "    <tr>\n",
       "      <th>3</th>\n",
       "      <td>1</td>\n",
       "      <td>0</td>\n",
       "      <td>1</td>\n",
       "      <td>1</td>\n",
       "      <td>10.66</td>\n",
       "      <td>12.880</td>\n",
       "      <td>56</td>\n",
       "      <td>11.0014</td>\n",
       "      <td>2011</td>\n",
       "      <td>3</td>\n",
       "      <td>3</td>\n",
       "    </tr>\n",
       "    <tr>\n",
       "      <th>4</th>\n",
       "      <td>1</td>\n",
       "      <td>0</td>\n",
       "      <td>1</td>\n",
       "      <td>1</td>\n",
       "      <td>10.66</td>\n",
       "      <td>12.880</td>\n",
       "      <td>56</td>\n",
       "      <td>11.0014</td>\n",
       "      <td>2011</td>\n",
       "      <td>4</td>\n",
       "      <td>3</td>\n",
       "    </tr>\n",
       "  </tbody>\n",
       "</table>\n",
       "</div>"
      ],
      "text/plain": [
       "   season  holiday  workingday  weather   temp   atemp  humidity  windspeed  \\\n",
       "0       1        0           1        1  10.66  11.365        56    26.0027   \n",
       "1       1        0           1        1  10.66  13.635        56     0.0000   \n",
       "2       1        0           1        1  10.66  13.635        56     0.0000   \n",
       "3       1        0           1        1  10.66  12.880        56    11.0014   \n",
       "4       1        0           1        1  10.66  12.880        56    11.0014   \n",
       "\n",
       "   datetime-year  datetime-hour  datetime-dayofweek  \n",
       "0           2011              0                   3  \n",
       "1           2011              1                   3  \n",
       "2           2011              2                   3  \n",
       "3           2011              3                   3  \n",
       "4           2011              4                   3  "
      ]
     },
     "execution_count": 27,
     "metadata": {},
     "output_type": "execute_result"
    }
   ],
   "source": [
    "X_test = test[feature_names]\n",
    "\n",
    "print(X_test.shape)\n",
    "\n",
    "X_test.head()"
   ]
  },
  {
   "cell_type": "code",
   "execution_count": 28,
   "metadata": {},
   "outputs": [
    {
     "name": "stdout",
     "output_type": "stream",
     "text": [
      "(10886,)\n"
     ]
    },
    {
     "data": {
      "text/plain": [
       "0    2.833213\n",
       "1    3.713572\n",
       "2    3.496508\n",
       "3    2.639057\n",
       "4    0.693147\n",
       "Name: log_count, dtype: float64"
      ]
     },
     "execution_count": 28,
     "metadata": {},
     "output_type": "execute_result"
    }
   ],
   "source": [
    "y_train = train[label_name]\n",
    "\n",
    "print(y_train.shape)\n",
    "\n",
    "y_train.head()"
   ]
  },
  {
   "cell_type": "markdown",
   "metadata": {},
   "source": [
    "### Evaluate"
   ]
  },
  {
   "cell_type": "code",
   "execution_count": 29,
   "metadata": {},
   "outputs": [
    {
     "data": {
      "text/plain": [
       "make_scorer(rmse)"
      ]
     },
     "execution_count": 29,
     "metadata": {},
     "output_type": "execute_result"
    }
   ],
   "source": [
    "import numpy as np\n",
    "from sklearn.metrics import make_scorer\n",
    "\n",
    "def rmse(predict, actual):\n",
    "\n",
    "    predict = np.array(predict)\n",
    "\n",
    "    distance = predict - actual\n",
    "\n",
    "    square_distance = distance ** 2\n",
    "\n",
    "    mean_square_distance = square_distance.mean()\n",
    "   \n",
    "    score = np.sqrt(mean_square_distance)\n",
    " \n",
    "    return score\n",
    "\n",
    "rmse_score = make_scorer(rmse)\n",
    "rmse_score"
   ]
  },
  {
   "cell_type": "markdown",
   "metadata": {},
   "source": [
    "## LightGBM"
   ]
  },
  {
   "cell_type": "code",
   "execution_count": 41,
   "metadata": {},
   "outputs": [
    {
     "name": "stdout",
     "output_type": "stream",
     "text": [
      "Wall time: 186 ms\n"
     ]
    },
    {
     "data": {
      "text/plain": [
       "LGBMRegressor(boosting_type='gbdt', class_weight=None, colsample_bytree=1.0,\n",
       "       importance_type='split', learning_rate=0.1, max_depth=-1,\n",
       "       min_child_samples=20, min_child_weight=0.001, min_split_gain=0.0,\n",
       "       n_estimators=100, n_jobs=-1, num_leaves=31, objective=None,\n",
       "       random_state=None, reg_alpha=0.0, reg_lambda=0.0, silent=True,\n",
       "       subsample=1.0, subsample_for_bin=200000, subsample_freq=0)"
      ]
     },
     "execution_count": 41,
     "metadata": {},
     "output_type": "execute_result"
    }
   ],
   "source": [
    "from lightgbm import LGBMRegressor\n",
    "\n",
    "model = LGBMRegressor()\n",
    "%time model.fit(X_train, y_train)"
   ]
  },
  {
   "cell_type": "markdown",
   "metadata": {},
   "source": [
    "### Hyperparameter Tuning"
   ]
  },
  {
   "cell_type": "code",
   "execution_count": 30,
   "metadata": {},
   "outputs": [
    {
     "data": {
      "text/plain": [
       "'2019-07-23 23:47:15.264395'"
      ]
     },
     "execution_count": 30,
     "metadata": {},
     "output_type": "execute_result"
    }
   ],
   "source": [
    "from datetime import datetime\n",
    "\n",
    "today = str(datetime.now())\n",
    "today"
   ]
  },
  {
   "cell_type": "code",
   "execution_count": 31,
   "metadata": {},
   "outputs": [],
   "source": [
    "from sklearn.model_selection import train_test_split\n",
    "\n",
    "random_state = 42\n",
    "\n",
    "X_train_hold, X_valid_hold, y_train_hold, y_valid_hold = \\\n",
    "    train_test_split(X_train, y_train, test_size=0.2, random_state=random_state)"
   ]
  },
  {
   "cell_type": "code",
   "execution_count": 32,
   "metadata": {},
   "outputs": [
    {
     "name": "stdout",
     "output_type": "stream",
     "text": [
      "(8708, 11)\n"
     ]
    },
    {
     "data": {
      "text/html": [
       "<div>\n",
       "<style scoped>\n",
       "    .dataframe tbody tr th:only-of-type {\n",
       "        vertical-align: middle;\n",
       "    }\n",
       "\n",
       "    .dataframe tbody tr th {\n",
       "        vertical-align: top;\n",
       "    }\n",
       "\n",
       "    .dataframe thead th {\n",
       "        text-align: right;\n",
       "    }\n",
       "</style>\n",
       "<table border=\"1\" class=\"dataframe\">\n",
       "  <thead>\n",
       "    <tr style=\"text-align: right;\">\n",
       "      <th></th>\n",
       "      <th>season</th>\n",
       "      <th>holiday</th>\n",
       "      <th>workingday</th>\n",
       "      <th>weather</th>\n",
       "      <th>temp</th>\n",
       "      <th>atemp</th>\n",
       "      <th>humidity</th>\n",
       "      <th>windspeed</th>\n",
       "      <th>datetime-year</th>\n",
       "      <th>datetime-hour</th>\n",
       "      <th>datetime-dayofweek</th>\n",
       "    </tr>\n",
       "  </thead>\n",
       "  <tbody>\n",
       "    <tr>\n",
       "      <th>2815</th>\n",
       "      <td>3</td>\n",
       "      <td>0</td>\n",
       "      <td>1</td>\n",
       "      <td>1</td>\n",
       "      <td>27.88</td>\n",
       "      <td>31.820</td>\n",
       "      <td>83</td>\n",
       "      <td>6.0032</td>\n",
       "      <td>2011</td>\n",
       "      <td>5</td>\n",
       "      <td>2</td>\n",
       "    </tr>\n",
       "    <tr>\n",
       "      <th>8695</th>\n",
       "      <td>3</td>\n",
       "      <td>0</td>\n",
       "      <td>0</td>\n",
       "      <td>1</td>\n",
       "      <td>36.90</td>\n",
       "      <td>40.910</td>\n",
       "      <td>39</td>\n",
       "      <td>19.9995</td>\n",
       "      <td>2012</td>\n",
       "      <td>16</td>\n",
       "      <td>5</td>\n",
       "    </tr>\n",
       "    <tr>\n",
       "      <th>8406</th>\n",
       "      <td>3</td>\n",
       "      <td>0</td>\n",
       "      <td>1</td>\n",
       "      <td>1</td>\n",
       "      <td>32.80</td>\n",
       "      <td>35.605</td>\n",
       "      <td>41</td>\n",
       "      <td>16.9979</td>\n",
       "      <td>2012</td>\n",
       "      <td>15</td>\n",
       "      <td>2</td>\n",
       "    </tr>\n",
       "    <tr>\n",
       "      <th>1543</th>\n",
       "      <td>2</td>\n",
       "      <td>0</td>\n",
       "      <td>0</td>\n",
       "      <td>2</td>\n",
       "      <td>14.76</td>\n",
       "      <td>18.180</td>\n",
       "      <td>93</td>\n",
       "      <td>7.0015</td>\n",
       "      <td>2011</td>\n",
       "      <td>4</td>\n",
       "      <td>6</td>\n",
       "    </tr>\n",
       "    <tr>\n",
       "      <th>4952</th>\n",
       "      <td>4</td>\n",
       "      <td>0</td>\n",
       "      <td>0</td>\n",
       "      <td>1</td>\n",
       "      <td>13.12</td>\n",
       "      <td>15.150</td>\n",
       "      <td>45</td>\n",
       "      <td>16.9979</td>\n",
       "      <td>2011</td>\n",
       "      <td>10</td>\n",
       "      <td>5</td>\n",
       "    </tr>\n",
       "  </tbody>\n",
       "</table>\n",
       "</div>"
      ],
      "text/plain": [
       "      season  holiday  workingday  weather   temp   atemp  humidity  \\\n",
       "2815       3        0           1        1  27.88  31.820        83   \n",
       "8695       3        0           0        1  36.90  40.910        39   \n",
       "8406       3        0           1        1  32.80  35.605        41   \n",
       "1543       2        0           0        2  14.76  18.180        93   \n",
       "4952       4        0           0        1  13.12  15.150        45   \n",
       "\n",
       "      windspeed  datetime-year  datetime-hour  datetime-dayofweek  \n",
       "2815     6.0032           2011              5                   2  \n",
       "8695    19.9995           2012             16                   5  \n",
       "8406    16.9979           2012             15                   2  \n",
       "1543     7.0015           2011              4                   6  \n",
       "4952    16.9979           2011             10                   5  "
      ]
     },
     "execution_count": 32,
     "metadata": {},
     "output_type": "execute_result"
    }
   ],
   "source": [
    "print(X_train_hold.shape)\n",
    "X_train_hold.head()"
   ]
  },
  {
   "cell_type": "code",
   "execution_count": 33,
   "metadata": {},
   "outputs": [
    {
     "name": "stdout",
     "output_type": "stream",
     "text": [
      "(2178, 11)\n"
     ]
    },
    {
     "data": {
      "text/html": [
       "<div>\n",
       "<style scoped>\n",
       "    .dataframe tbody tr th:only-of-type {\n",
       "        vertical-align: middle;\n",
       "    }\n",
       "\n",
       "    .dataframe tbody tr th {\n",
       "        vertical-align: top;\n",
       "    }\n",
       "\n",
       "    .dataframe thead th {\n",
       "        text-align: right;\n",
       "    }\n",
       "</style>\n",
       "<table border=\"1\" class=\"dataframe\">\n",
       "  <thead>\n",
       "    <tr style=\"text-align: right;\">\n",
       "      <th></th>\n",
       "      <th>season</th>\n",
       "      <th>holiday</th>\n",
       "      <th>workingday</th>\n",
       "      <th>weather</th>\n",
       "      <th>temp</th>\n",
       "      <th>atemp</th>\n",
       "      <th>humidity</th>\n",
       "      <th>windspeed</th>\n",
       "      <th>datetime-year</th>\n",
       "      <th>datetime-hour</th>\n",
       "      <th>datetime-dayofweek</th>\n",
       "    </tr>\n",
       "  </thead>\n",
       "  <tbody>\n",
       "    <tr>\n",
       "      <th>3133</th>\n",
       "      <td>3</td>\n",
       "      <td>0</td>\n",
       "      <td>1</td>\n",
       "      <td>1</td>\n",
       "      <td>33.62</td>\n",
       "      <td>40.150</td>\n",
       "      <td>59</td>\n",
       "      <td>0.0000</td>\n",
       "      <td>2011</td>\n",
       "      <td>11</td>\n",
       "      <td>1</td>\n",
       "    </tr>\n",
       "    <tr>\n",
       "      <th>5786</th>\n",
       "      <td>1</td>\n",
       "      <td>1</td>\n",
       "      <td>0</td>\n",
       "      <td>1</td>\n",
       "      <td>4.10</td>\n",
       "      <td>6.820</td>\n",
       "      <td>54</td>\n",
       "      <td>6.0032</td>\n",
       "      <td>2012</td>\n",
       "      <td>6</td>\n",
       "      <td>0</td>\n",
       "    </tr>\n",
       "    <tr>\n",
       "      <th>5224</th>\n",
       "      <td>4</td>\n",
       "      <td>0</td>\n",
       "      <td>0</td>\n",
       "      <td>1</td>\n",
       "      <td>9.84</td>\n",
       "      <td>11.365</td>\n",
       "      <td>48</td>\n",
       "      <td>12.9980</td>\n",
       "      <td>2011</td>\n",
       "      <td>18</td>\n",
       "      <td>6</td>\n",
       "    </tr>\n",
       "    <tr>\n",
       "      <th>8953</th>\n",
       "      <td>3</td>\n",
       "      <td>0</td>\n",
       "      <td>1</td>\n",
       "      <td>2</td>\n",
       "      <td>29.52</td>\n",
       "      <td>34.090</td>\n",
       "      <td>62</td>\n",
       "      <td>12.9980</td>\n",
       "      <td>2012</td>\n",
       "      <td>10</td>\n",
       "      <td>2</td>\n",
       "    </tr>\n",
       "    <tr>\n",
       "      <th>8054</th>\n",
       "      <td>2</td>\n",
       "      <td>0</td>\n",
       "      <td>1</td>\n",
       "      <td>1</td>\n",
       "      <td>25.42</td>\n",
       "      <td>31.060</td>\n",
       "      <td>53</td>\n",
       "      <td>16.9979</td>\n",
       "      <td>2012</td>\n",
       "      <td>23</td>\n",
       "      <td>4</td>\n",
       "    </tr>\n",
       "  </tbody>\n",
       "</table>\n",
       "</div>"
      ],
      "text/plain": [
       "      season  holiday  workingday  weather   temp   atemp  humidity  \\\n",
       "3133       3        0           1        1  33.62  40.150        59   \n",
       "5786       1        1           0        1   4.10   6.820        54   \n",
       "5224       4        0           0        1   9.84  11.365        48   \n",
       "8953       3        0           1        2  29.52  34.090        62   \n",
       "8054       2        0           1        1  25.42  31.060        53   \n",
       "\n",
       "      windspeed  datetime-year  datetime-hour  datetime-dayofweek  \n",
       "3133     0.0000           2011             11                   1  \n",
       "5786     6.0032           2012              6                   0  \n",
       "5224    12.9980           2011             18                   6  \n",
       "8953    12.9980           2012             10                   2  \n",
       "8054    16.9979           2012             23                   4  "
      ]
     },
     "execution_count": 33,
     "metadata": {},
     "output_type": "execute_result"
    }
   ],
   "source": [
    "print(X_valid_hold.shape)\n",
    "X_valid_hold.head()"
   ]
  },
  {
   "cell_type": "code",
   "execution_count": 34,
   "metadata": {},
   "outputs": [
    {
     "name": "stdout",
     "output_type": "stream",
     "text": [
      "(8708,)\n"
     ]
    },
    {
     "data": {
      "text/plain": [
       "2815    3.583519\n",
       "8695    6.111467\n",
       "8406    5.624018\n",
       "1543    1.791759\n",
       "4952    5.303305\n",
       "Name: log_count, dtype: float64"
      ]
     },
     "execution_count": 34,
     "metadata": {},
     "output_type": "execute_result"
    }
   ],
   "source": [
    "print(y_train_hold.shape)\n",
    "y_train_hold.head()"
   ]
  },
  {
   "cell_type": "code",
   "execution_count": 35,
   "metadata": {},
   "outputs": [
    {
     "data": {
      "text/plain": [
       "'bike_demand_coarse-search 2019-07-23 23:49:05.515671.csv'"
      ]
     },
     "execution_count": 35,
     "metadata": {},
     "output_type": "execute_result"
    }
   ],
   "source": [
    "from datetime import datetime\n",
    "\n",
    "today = str(datetime.now())\n",
    "filename = f\"bike_demand_coarse-search {today}.csv\"\n",
    "\n",
    "filename"
   ]
  },
  {
   "cell_type": "markdown",
   "metadata": {},
   "source": [
    "### Coarse Search"
   ]
  },
  {
   "cell_type": "code",
   "execution_count": 42,
   "metadata": {},
   "outputs": [
    {
     "data": {
      "text/plain": [
       "LGBMRegressor(boosting_type='gbdt', class_weight=None, colsample_bytree=1.0,\n",
       "       importance_type='split', learning_rate=0.1, max_depth=-1,\n",
       "       min_child_samples=20, min_child_weight=0.001, min_split_gain=0.0,\n",
       "       n_estimators=100, n_jobs=-1, num_leaves=31, objective=None,\n",
       "       random_state=None, reg_alpha=0.0, reg_lambda=0.0, silent=True,\n",
       "       subsample=1.0, subsample_for_bin=200000, subsample_freq=0)"
      ]
     },
     "execution_count": 42,
     "metadata": {},
     "output_type": "execute_result"
    }
   ],
   "source": [
    "model"
   ]
  },
  {
   "cell_type": "code",
   "execution_count": 46,
   "metadata": {},
   "outputs": [
    {
     "name": "stdout",
     "output_type": "stream",
     "text": [
      " 0 best iteration = 1000, Score = 1.422474\n",
      " 1 best iteration = 1000, Score = 1.422927\n",
      " 2 best iteration = 1000, Score = 0.678382\n",
      " 3 best iteration = 1000, Score = 1.423044\n",
      " 4 best iteration = 1000, Score = 1.260015\n",
      " 5 best iteration = 1000, Score = 1.423052\n",
      " 6 best iteration = 314, Score = 1.358221\n",
      " 7 best iteration = 1000, Score = 0.332959\n",
      " 8 best iteration = 1000, Score = 0.355339\n",
      " 9 best iteration = 1000, Score = 1.422995\n",
      "10 best iteration = 1000, Score = 1.415446\n",
      "11 best iteration = 1000, Score = 0.577606\n",
      "12 best iteration = 1000, Score = 0.596421\n",
      "13 best iteration = 1000, Score = 1.423048\n",
      "14 best iteration = 1000, Score = 1.422954\n",
      "15 best iteration = 1000, Score = 1.356721\n",
      "16 best iteration = 1000, Score = 1.423052\n",
      "17 best iteration = 1000, Score = 1.423037\n",
      "18 best iteration = 1000, Score = 1.354535\n",
      "19 best iteration = 1000, Score = 1.422973\n",
      "20 best iteration = 1000, Score = 1.230709\n",
      "21 best iteration = 1000, Score = 1.423025\n",
      "22 best iteration = 1000, Score = 1.423048\n",
      "23 best iteration = 1000, Score = 0.372380\n",
      "24 best iteration = 1000, Score = 1.412628\n",
      "25 best iteration = 1000, Score = 1.369271\n",
      "26 best iteration = 1000, Score = 1.423040\n",
      "27 best iteration = 290, Score = 1.422057\n",
      "28 best iteration = 1000, Score = 0.331552\n",
      "29 best iteration = 282, Score = 1.103066\n",
      "30 best iteration = 1000, Score = 0.337246\n",
      "31 best iteration = 1000, Score = 1.423027\n",
      "32 best iteration = 1000, Score = 1.421244\n",
      "33 best iteration = 1000, Score = 1.365859\n",
      "34 best iteration = 1000, Score = 1.308346\n",
      "35 best iteration = 1000, Score = 1.422732\n",
      "36 best iteration = 1000, Score = 1.146548\n",
      "37 best iteration = 1000, Score = 0.382617\n",
      "38 best iteration = 1000, Score = 0.864933\n",
      "39 best iteration = 1000, Score = 1.416789\n",
      "40 best iteration = 497, Score = 1.423047\n",
      "41 best iteration = 1000, Score = 0.327578\n",
      "42 best iteration = 1000, Score = 1.422911\n",
      "43 best iteration = 1000, Score = 1.334920\n",
      "44 best iteration = 1000, Score = 0.930465\n",
      "45 best iteration = 1000, Score = 1.423049\n",
      "46 best iteration = 1000, Score = 1.422472\n",
      "47 best iteration = 1000, Score = 1.423050\n",
      "48 best iteration = 1000, Score = 1.423052\n",
      "49 best iteration = 1000, Score = 1.423048\n",
      "50 best iteration = 779, Score = 1.423053\n",
      "51 best iteration = 1000, Score = 0.333073\n",
      "52 best iteration = 1000, Score = 1.423040\n",
      "53 best iteration = 1000, Score = 1.422581\n",
      "54 best iteration = 1000, Score = 1.413844\n",
      "55 best iteration = 1000, Score = 1.406599\n",
      "56 best iteration = 1000, Score = 1.421033\n",
      "57 best iteration = 1000, Score = 1.423014\n",
      "58 best iteration = 1000, Score = 1.423053\n",
      "59 best iteration = 1000, Score = 1.173338\n",
      "60 best iteration = 1000, Score = 1.244717\n",
      "61 best iteration = 1000, Score = 1.338901\n",
      "62 best iteration = 1000, Score = 1.420475\n",
      "63 best iteration = 1000, Score = 1.423037\n",
      "64 best iteration = 1000, Score = 1.423041\n",
      "65 best iteration = 1000, Score = 1.423043\n",
      "66 best iteration = 1000, Score = 1.375966\n",
      "67 best iteration = 1000, Score = 1.422928\n",
      "68 best iteration = 1000, Score = 1.420273\n",
      "69 best iteration = 1000, Score = 1.400611\n",
      "70 best iteration = 1000, Score = 1.172596\n",
      "71 best iteration = 997, Score = 1.423032\n",
      "72 best iteration = 1000, Score = 0.319916\n",
      "73 best iteration = 1000, Score = 1.423053\n",
      "74 best iteration = 1000, Score = 1.423043\n",
      "75 best iteration = 1000, Score = 1.420377\n",
      "76 best iteration = 1000, Score = 1.243319\n",
      "77 best iteration = 621, Score = 0.957376\n",
      "78 best iteration = 1000, Score = 0.327748\n",
      "79 best iteration = 999, Score = 1.396795\n",
      "80 best iteration = 398, Score = 0.317959\n",
      "81 best iteration = 1000, Score = 0.334398\n",
      "82 best iteration = 1000, Score = 1.419533\n",
      "83 best iteration = 1000, Score = 1.423036\n",
      "84 best iteration = 1000, Score = 1.423021\n",
      "85 best iteration = 1000, Score = 1.362363\n",
      "86 best iteration = 1000, Score = 1.422970\n",
      "87 best iteration = 1000, Score = 1.423050\n",
      "88 best iteration = 1000, Score = 1.414017\n",
      "89 best iteration = 1000, Score = 0.320974\n",
      "90 best iteration = 1000, Score = 1.412181\n",
      "91 best iteration = 660, Score = 0.348818\n",
      "92 best iteration = 1000, Score = 0.326433\n",
      "93 best iteration = 1000, Score = 1.423040\n",
      "94 best iteration = 1000, Score = 1.423052\n",
      "95 best iteration = 1000, Score = 1.422906\n",
      "96 best iteration = 1000, Score = 0.352274\n",
      "97 best iteration = 1000, Score = 1.423027\n",
      "98 best iteration = 1000, Score = 1.422698\n",
      "99 best iteration = 1000, Score = 0.490280\n"
     ]
    },
    {
     "data": {
      "text/html": [
       "<div>\n",
       "<style scoped>\n",
       "    .dataframe tbody tr th:only-of-type {\n",
       "        vertical-align: middle;\n",
       "    }\n",
       "\n",
       "    .dataframe tbody tr th {\n",
       "        vertical-align: top;\n",
       "    }\n",
       "\n",
       "    .dataframe thead th {\n",
       "        text-align: right;\n",
       "    }\n",
       "</style>\n",
       "<table border=\"1\" class=\"dataframe\">\n",
       "  <thead>\n",
       "    <tr style=\"text-align: right;\">\n",
       "      <th></th>\n",
       "      <th>colsample_bytree</th>\n",
       "      <th>learning_rate</th>\n",
       "      <th>loop</th>\n",
       "      <th>min_child_samples</th>\n",
       "      <th>min_child_weight</th>\n",
       "      <th>n_estimators</th>\n",
       "      <th>num_leaves</th>\n",
       "      <th>random_state</th>\n",
       "      <th>reg_alpha</th>\n",
       "      <th>reg_lambda</th>\n",
       "      <th>score</th>\n",
       "      <th>subsample</th>\n",
       "    </tr>\n",
       "  </thead>\n",
       "  <tbody>\n",
       "    <tr>\n",
       "      <th>80</th>\n",
       "      <td>0.477315</td>\n",
       "      <td>8.360145e-02</td>\n",
       "      <td>80</td>\n",
       "      <td>15</td>\n",
       "      <td>0.486068</td>\n",
       "      <td>398</td>\n",
       "      <td>54</td>\n",
       "      <td>42</td>\n",
       "      <td>2.615969e-03</td>\n",
       "      <td>6.347406e-13</td>\n",
       "      <td>0.317959</td>\n",
       "      <td>0.702947</td>\n",
       "    </tr>\n",
       "    <tr>\n",
       "      <th>72</th>\n",
       "      <td>0.171912</td>\n",
       "      <td>4.340748e-10</td>\n",
       "      <td>72</td>\n",
       "      <td>58</td>\n",
       "      <td>0.124384</td>\n",
       "      <td>1000</td>\n",
       "      <td>17</td>\n",
       "      <td>42</td>\n",
       "      <td>1.447255e-09</td>\n",
       "      <td>2.457578e-12</td>\n",
       "      <td>0.319916</td>\n",
       "      <td>0.457855</td>\n",
       "    </tr>\n",
       "    <tr>\n",
       "      <th>89</th>\n",
       "      <td>0.409614</td>\n",
       "      <td>1.882760e-05</td>\n",
       "      <td>89</td>\n",
       "      <td>142</td>\n",
       "      <td>0.940517</td>\n",
       "      <td>1000</td>\n",
       "      <td>185</td>\n",
       "      <td>42</td>\n",
       "      <td>1.946933e-03</td>\n",
       "      <td>4.517445e-14</td>\n",
       "      <td>0.320974</td>\n",
       "      <td>0.835532</td>\n",
       "    </tr>\n",
       "    <tr>\n",
       "      <th>92</th>\n",
       "      <td>0.379889</td>\n",
       "      <td>2.240247e-08</td>\n",
       "      <td>92</td>\n",
       "      <td>158</td>\n",
       "      <td>0.177523</td>\n",
       "      <td>1000</td>\n",
       "      <td>156</td>\n",
       "      <td>42</td>\n",
       "      <td>9.990259e-02</td>\n",
       "      <td>4.786246e-08</td>\n",
       "      <td>0.326433</td>\n",
       "      <td>0.507448</td>\n",
       "    </tr>\n",
       "    <tr>\n",
       "      <th>41</th>\n",
       "      <td>0.212780</td>\n",
       "      <td>4.347798e-07</td>\n",
       "      <td>41</td>\n",
       "      <td>8</td>\n",
       "      <td>0.284182</td>\n",
       "      <td>1000</td>\n",
       "      <td>159</td>\n",
       "      <td>42</td>\n",
       "      <td>2.204127e-05</td>\n",
       "      <td>1.261788e-11</td>\n",
       "      <td>0.327578</td>\n",
       "      <td>0.263475</td>\n",
       "    </tr>\n",
       "    <tr>\n",
       "      <th>78</th>\n",
       "      <td>0.226804</td>\n",
       "      <td>8.350170e-05</td>\n",
       "      <td>78</td>\n",
       "      <td>121</td>\n",
       "      <td>0.810717</td>\n",
       "      <td>1000</td>\n",
       "      <td>32</td>\n",
       "      <td>42</td>\n",
       "      <td>3.736540e-05</td>\n",
       "      <td>8.470263e-13</td>\n",
       "      <td>0.327748</td>\n",
       "      <td>0.975071</td>\n",
       "    </tr>\n",
       "    <tr>\n",
       "      <th>28</th>\n",
       "      <td>0.337710</td>\n",
       "      <td>8.935477e-04</td>\n",
       "      <td>28</td>\n",
       "      <td>184</td>\n",
       "      <td>0.554201</td>\n",
       "      <td>1000</td>\n",
       "      <td>182</td>\n",
       "      <td>42</td>\n",
       "      <td>1.405584e-02</td>\n",
       "      <td>4.724010e-14</td>\n",
       "      <td>0.331552</td>\n",
       "      <td>0.161834</td>\n",
       "    </tr>\n",
       "    <tr>\n",
       "      <th>7</th>\n",
       "      <td>0.877340</td>\n",
       "      <td>4.008841e-03</td>\n",
       "      <td>7</td>\n",
       "      <td>129</td>\n",
       "      <td>0.546691</td>\n",
       "      <td>1000</td>\n",
       "      <td>95</td>\n",
       "      <td>42</td>\n",
       "      <td>3.683472e-09</td>\n",
       "      <td>1.960525e-05</td>\n",
       "      <td>0.332959</td>\n",
       "      <td>0.606010</td>\n",
       "    </tr>\n",
       "    <tr>\n",
       "      <th>51</th>\n",
       "      <td>0.346553</td>\n",
       "      <td>2.716064e-08</td>\n",
       "      <td>51</td>\n",
       "      <td>72</td>\n",
       "      <td>0.499694</td>\n",
       "      <td>1000</td>\n",
       "      <td>164</td>\n",
       "      <td>42</td>\n",
       "      <td>2.083958e-02</td>\n",
       "      <td>8.708759e-03</td>\n",
       "      <td>0.333073</td>\n",
       "      <td>0.157165</td>\n",
       "    </tr>\n",
       "    <tr>\n",
       "      <th>81</th>\n",
       "      <td>0.896029</td>\n",
       "      <td>3.439370e-06</td>\n",
       "      <td>81</td>\n",
       "      <td>183</td>\n",
       "      <td>0.426475</td>\n",
       "      <td>1000</td>\n",
       "      <td>85</td>\n",
       "      <td>42</td>\n",
       "      <td>1.569165e-02</td>\n",
       "      <td>1.389497e-08</td>\n",
       "      <td>0.334398</td>\n",
       "      <td>0.630312</td>\n",
       "    </tr>\n",
       "  </tbody>\n",
       "</table>\n",
       "</div>"
      ],
      "text/plain": [
       "    colsample_bytree  learning_rate  loop  min_child_samples  \\\n",
       "80          0.477315   8.360145e-02    80                 15   \n",
       "72          0.171912   4.340748e-10    72                 58   \n",
       "89          0.409614   1.882760e-05    89                142   \n",
       "92          0.379889   2.240247e-08    92                158   \n",
       "41          0.212780   4.347798e-07    41                  8   \n",
       "78          0.226804   8.350170e-05    78                121   \n",
       "28          0.337710   8.935477e-04    28                184   \n",
       "7           0.877340   4.008841e-03     7                129   \n",
       "51          0.346553   2.716064e-08    51                 72   \n",
       "81          0.896029   3.439370e-06    81                183   \n",
       "\n",
       "    min_child_weight  n_estimators  num_leaves  random_state     reg_alpha  \\\n",
       "80          0.486068           398          54            42  2.615969e-03   \n",
       "72          0.124384          1000          17            42  1.447255e-09   \n",
       "89          0.940517          1000         185            42  1.946933e-03   \n",
       "92          0.177523          1000         156            42  9.990259e-02   \n",
       "41          0.284182          1000         159            42  2.204127e-05   \n",
       "78          0.810717          1000          32            42  3.736540e-05   \n",
       "28          0.554201          1000         182            42  1.405584e-02   \n",
       "7           0.546691          1000          95            42  3.683472e-09   \n",
       "51          0.499694          1000         164            42  2.083958e-02   \n",
       "81          0.426475          1000          85            42  1.569165e-02   \n",
       "\n",
       "      reg_lambda     score  subsample  \n",
       "80  6.347406e-13  0.317959   0.702947  \n",
       "72  2.457578e-12  0.319916   0.457855  \n",
       "89  4.517445e-14  0.320974   0.835532  \n",
       "92  4.786246e-08  0.326433   0.507448  \n",
       "41  1.261788e-11  0.327578   0.263475  \n",
       "78  8.470263e-13  0.327748   0.975071  \n",
       "28  4.724010e-14  0.331552   0.161834  \n",
       "7   1.960525e-05  0.332959   0.606010  \n",
       "51  8.708759e-03  0.333073   0.157165  \n",
       "81  1.389497e-08  0.334398   0.630312  "
      ]
     },
     "execution_count": 46,
     "metadata": {},
     "output_type": "execute_result"
    }
   ],
   "source": [
    "import numpy as np\n",
    "from lightgbm import LGBMRegressor\n",
    "from sklearn.model_selection import train_test_split\n",
    "from datetime import datetime\n",
    "from sklearn.model_selection import cross_val_score\n",
    "\n",
    "random_state = 42\n",
    "\n",
    "today = str(datetime.now())\n",
    "filename = f\"bike_demand_coarse-search {today}.csv\"\n",
    "filename = \"\".join(i for i in filename if i not in \"\\/:*?<>|\") #네이버팁\n",
    "\n",
    "num_loop = 100\n",
    "n_estimators = 1000\n",
    "# num_loop = 5\n",
    "# n_estimators = 10\n",
    "early_stopping_rounds = 20 \n",
    "#early_stoppring_rounds -> train 셋과 함께 test 셋도 홀드아웃베리데이션 한다, \n",
    "#20번까지는 로그로스가 높아져도 진행한다는 의미\n",
    "\n",
    "X_train_hold, X_valid_hold, y_train_hold, y_valid_hold = \\\n",
    "    train_test_split(X_train, y_train, test_size=0.2, random_state=random_state)\n",
    "\n",
    "coarse_hyperparameters_list = []\n",
    "\n",
    "for loop in range(num_loop):\n",
    "    num_leaves =  np.random.randint(10, 200)\n",
    "    min_child_samples = np.random.randint(2, 200)\n",
    "    min_child_weight = np.random.uniform(0.1, 1.0)\n",
    "    subsample = np.random.uniform(0.1, 1.0) \n",
    "    colsample_bytree = np.random.uniform(0.1, 1.0)\n",
    "    learning_rate = 10 ** -np.random.uniform(low=1, high=10)\n",
    "    reg_alpha = 10 ** -np.random.uniform(low=1, high=10)\n",
    "    reg_lambda = 10 ** -np.random.uniform(low=1, high=15)\n",
    "    drop_rate = np.random.uniform(0.1, 1.0)\n",
    "    \n",
    "    score = cross_val_score(model, X_train, y_train, cv=20, scoring=rmse_score).mean()\n",
    "\n",
    "    parameters ={'loop': loop,\n",
    "                 'score': score,\n",
    "                 'num_leaves': num_leaves, \n",
    "                 'min_child_samples': min_child_samples, \n",
    "                 'min_child_weight': min_child_weight,\n",
    "                 'subsample': subsample, \n",
    "                 'colsample_bytree': colsample_bytree,\n",
    "                 'reg_alpha': reg_alpha,\n",
    "                 'reg_lambda': reg_lambda,\n",
    "                 'n_estimators': n_estimators,\n",
    "                 'learning_rate' : learning_rate,\n",
    "                 'random_state': random_state}\n",
    "    \n",
    "    model = LGBMRegressor(**parameters)\n",
    "    #https://mingrammer.com/understanding-the-asterisk-of-python/\n",
    "    \n",
    "    model.fit(X_train_hold, y_train_hold,\n",
    "              eval_set=[(X_valid_hold, y_valid_hold)],\n",
    "              verbose=0,\n",
    "              early_stopping_rounds=early_stopping_rounds)\n",
    "    \n",
    "    parameters['n_estimators'] = model.best_iteration_\n",
    "    \n",
    "    print(f\"{loop:2} best iteration = {parameters['n_estimators']}, Score = {parameters['score']:.6f}\")\n",
    "    \n",
    "    coarse_hyperparameters_list.append(parameters)\n",
    "    coarse_hyperparameters_data = pd.DataFrame(coarse_hyperparameters_list)\n",
    "    coarse_hyperparameters_data = coarse_hyperparameters_data.sort_values(by=\"score\")\n",
    "    \n",
    "    coarse_hyperparameters_data.to_csv(filename)\n",
    "    \n",
    "coarse_hyperparameters_data.head(10)"
   ]
  },
  {
   "cell_type": "markdown",
   "metadata": {},
   "source": [
    "### Fine Search"
   ]
  },
  {
   "cell_type": "code",
   "execution_count": 53,
   "metadata": {},
   "outputs": [
    {
     "name": "stdout",
     "output_type": "stream",
     "text": [
      " 0 best iteration = 2863, Score = 0.320671\n",
      " 1 best iteration = 2031, Score = 0.347202\n",
      " 2 best iteration = 760, Score = 0.323302\n",
      " 3 best iteration = 631, Score = 0.734284\n",
      " 4 best iteration = 369, Score = 0.743344\n",
      " 5 best iteration = 871, Score = 0.546120\n",
      " 6 best iteration = 2692, Score = 0.329093\n",
      " 7 best iteration = 1640, Score = 0.337445\n",
      " 8 best iteration = 1651, Score = 0.556881\n",
      " 9 best iteration = 1331, Score = 0.330247\n",
      "10 best iteration = 1287, Score = 0.673441\n",
      "11 best iteration = 691, Score = 0.915976\n",
      "12 best iteration = 1658, Score = 0.338490\n",
      "13 best iteration = 2828, Score = 0.432704\n",
      "14 best iteration = 806, Score = 0.317226\n",
      "15 best iteration = 2038, Score = 0.337841\n",
      "16 best iteration = 1485, Score = 0.595084\n",
      "17 best iteration = 2246, Score = 0.336840\n",
      "18 best iteration = 943, Score = 0.337263\n",
      "19 best iteration = 1910, Score = 0.339775\n"
     ]
    },
    {
     "data": {
      "text/html": [
       "<div>\n",
       "<style scoped>\n",
       "    .dataframe tbody tr th:only-of-type {\n",
       "        vertical-align: middle;\n",
       "    }\n",
       "\n",
       "    .dataframe tbody tr th {\n",
       "        vertical-align: top;\n",
       "    }\n",
       "\n",
       "    .dataframe thead th {\n",
       "        text-align: right;\n",
       "    }\n",
       "</style>\n",
       "<table border=\"1\" class=\"dataframe\">\n",
       "  <thead>\n",
       "    <tr style=\"text-align: right;\">\n",
       "      <th></th>\n",
       "      <th>colsample_bytree</th>\n",
       "      <th>learning_rate</th>\n",
       "      <th>loop</th>\n",
       "      <th>min_child_samples</th>\n",
       "      <th>min_child_weight</th>\n",
       "      <th>n_estimators</th>\n",
       "      <th>num_leaves</th>\n",
       "      <th>random_state</th>\n",
       "      <th>reg_alpha</th>\n",
       "      <th>reg_lambda</th>\n",
       "      <th>score</th>\n",
       "      <th>subsample</th>\n",
       "    </tr>\n",
       "  </thead>\n",
       "  <tbody>\n",
       "    <tr>\n",
       "      <th>14</th>\n",
       "      <td>0.696747</td>\n",
       "      <td>0.051462</td>\n",
       "      <td>14</td>\n",
       "      <td>82</td>\n",
       "      <td>0.540812</td>\n",
       "      <td>806</td>\n",
       "      <td>10</td>\n",
       "      <td>42</td>\n",
       "      <td>1.977369e-04</td>\n",
       "      <td>3.132686e-06</td>\n",
       "      <td>0.317226</td>\n",
       "      <td>0.557518</td>\n",
       "    </tr>\n",
       "    <tr>\n",
       "      <th>0</th>\n",
       "      <td>0.602744</td>\n",
       "      <td>0.006756</td>\n",
       "      <td>0</td>\n",
       "      <td>140</td>\n",
       "      <td>0.699223</td>\n",
       "      <td>2863</td>\n",
       "      <td>113</td>\n",
       "      <td>42</td>\n",
       "      <td>6.581815e-07</td>\n",
       "      <td>1.130986e-11</td>\n",
       "      <td>0.320671</td>\n",
       "      <td>0.411516</td>\n",
       "    </tr>\n",
       "    <tr>\n",
       "      <th>2</th>\n",
       "      <td>0.661201</td>\n",
       "      <td>0.038820</td>\n",
       "      <td>2</td>\n",
       "      <td>135</td>\n",
       "      <td>0.329807</td>\n",
       "      <td>760</td>\n",
       "      <td>170</td>\n",
       "      <td>42</td>\n",
       "      <td>1.390508e-05</td>\n",
       "      <td>1.452967e-11</td>\n",
       "      <td>0.323302</td>\n",
       "      <td>0.412395</td>\n",
       "    </tr>\n",
       "    <tr>\n",
       "      <th>6</th>\n",
       "      <td>0.468366</td>\n",
       "      <td>0.021507</td>\n",
       "      <td>6</td>\n",
       "      <td>77</td>\n",
       "      <td>0.487751</td>\n",
       "      <td>2692</td>\n",
       "      <td>119</td>\n",
       "      <td>42</td>\n",
       "      <td>2.355477e-05</td>\n",
       "      <td>1.599910e-07</td>\n",
       "      <td>0.329093</td>\n",
       "      <td>0.560721</td>\n",
       "    </tr>\n",
       "    <tr>\n",
       "      <th>9</th>\n",
       "      <td>0.445683</td>\n",
       "      <td>0.075798</td>\n",
       "      <td>9</td>\n",
       "      <td>43</td>\n",
       "      <td>0.469027</td>\n",
       "      <td>1331</td>\n",
       "      <td>42</td>\n",
       "      <td>42</td>\n",
       "      <td>4.062322e-08</td>\n",
       "      <td>4.000402e-11</td>\n",
       "      <td>0.330247</td>\n",
       "      <td>0.448527</td>\n",
       "    </tr>\n",
       "    <tr>\n",
       "      <th>17</th>\n",
       "      <td>0.548582</td>\n",
       "      <td>0.002999</td>\n",
       "      <td>17</td>\n",
       "      <td>51</td>\n",
       "      <td>0.663381</td>\n",
       "      <td>2246</td>\n",
       "      <td>44</td>\n",
       "      <td>42</td>\n",
       "      <td>1.287169e-08</td>\n",
       "      <td>4.007169e-12</td>\n",
       "      <td>0.336840</td>\n",
       "      <td>0.613219</td>\n",
       "    </tr>\n",
       "    <tr>\n",
       "      <th>18</th>\n",
       "      <td>0.648863</td>\n",
       "      <td>0.032860</td>\n",
       "      <td>18</td>\n",
       "      <td>22</td>\n",
       "      <td>0.832219</td>\n",
       "      <td>943</td>\n",
       "      <td>185</td>\n",
       "      <td>42</td>\n",
       "      <td>3.986197e-06</td>\n",
       "      <td>2.845337e-08</td>\n",
       "      <td>0.337263</td>\n",
       "      <td>0.737240</td>\n",
       "    </tr>\n",
       "    <tr>\n",
       "      <th>7</th>\n",
       "      <td>0.697384</td>\n",
       "      <td>0.109859</td>\n",
       "      <td>7</td>\n",
       "      <td>144</td>\n",
       "      <td>0.654027</td>\n",
       "      <td>1640</td>\n",
       "      <td>115</td>\n",
       "      <td>42</td>\n",
       "      <td>2.572778e-04</td>\n",
       "      <td>3.940950e-14</td>\n",
       "      <td>0.337445</td>\n",
       "      <td>0.600240</td>\n",
       "    </tr>\n",
       "    <tr>\n",
       "      <th>15</th>\n",
       "      <td>0.581023</td>\n",
       "      <td>0.037806</td>\n",
       "      <td>15</td>\n",
       "      <td>54</td>\n",
       "      <td>0.266835</td>\n",
       "      <td>2038</td>\n",
       "      <td>123</td>\n",
       "      <td>42</td>\n",
       "      <td>2.052631e-06</td>\n",
       "      <td>2.077321e-12</td>\n",
       "      <td>0.337841</td>\n",
       "      <td>0.562168</td>\n",
       "    </tr>\n",
       "    <tr>\n",
       "      <th>12</th>\n",
       "      <td>0.471435</td>\n",
       "      <td>0.045877</td>\n",
       "      <td>12</td>\n",
       "      <td>14</td>\n",
       "      <td>0.105270</td>\n",
       "      <td>1658</td>\n",
       "      <td>91</td>\n",
       "      <td>42</td>\n",
       "      <td>7.455257e-05</td>\n",
       "      <td>3.740140e-09</td>\n",
       "      <td>0.338490</td>\n",
       "      <td>0.651488</td>\n",
       "    </tr>\n",
       "  </tbody>\n",
       "</table>\n",
       "</div>"
      ],
      "text/plain": [
       "    colsample_bytree  learning_rate  loop  min_child_samples  \\\n",
       "14          0.696747       0.051462    14                 82   \n",
       "0           0.602744       0.006756     0                140   \n",
       "2           0.661201       0.038820     2                135   \n",
       "6           0.468366       0.021507     6                 77   \n",
       "9           0.445683       0.075798     9                 43   \n",
       "17          0.548582       0.002999    17                 51   \n",
       "18          0.648863       0.032860    18                 22   \n",
       "7           0.697384       0.109859     7                144   \n",
       "15          0.581023       0.037806    15                 54   \n",
       "12          0.471435       0.045877    12                 14   \n",
       "\n",
       "    min_child_weight  n_estimators  num_leaves  random_state     reg_alpha  \\\n",
       "14          0.540812           806          10            42  1.977369e-04   \n",
       "0           0.699223          2863         113            42  6.581815e-07   \n",
       "2           0.329807           760         170            42  1.390508e-05   \n",
       "6           0.487751          2692         119            42  2.355477e-05   \n",
       "9           0.469027          1331          42            42  4.062322e-08   \n",
       "17          0.663381          2246          44            42  1.287169e-08   \n",
       "18          0.832219           943         185            42  3.986197e-06   \n",
       "7           0.654027          1640         115            42  2.572778e-04   \n",
       "15          0.266835          2038         123            42  2.052631e-06   \n",
       "12          0.105270          1658          91            42  7.455257e-05   \n",
       "\n",
       "      reg_lambda     score  subsample  \n",
       "14  3.132686e-06  0.317226   0.557518  \n",
       "0   1.130986e-11  0.320671   0.411516  \n",
       "2   1.452967e-11  0.323302   0.412395  \n",
       "6   1.599910e-07  0.329093   0.560721  \n",
       "9   4.000402e-11  0.330247   0.448527  \n",
       "17  4.007169e-12  0.336840   0.613219  \n",
       "18  2.845337e-08  0.337263   0.737240  \n",
       "7   3.940950e-14  0.337445   0.600240  \n",
       "15  2.077321e-12  0.337841   0.562168  \n",
       "12  3.740140e-09  0.338490   0.651488  "
      ]
     },
     "execution_count": 53,
     "metadata": {},
     "output_type": "execute_result"
    }
   ],
   "source": [
    "import numpy as np\n",
    "from lightgbm import LGBMRegressor\n",
    "from sklearn.model_selection import StratifiedKFold, cross_val_score\n",
    "from datetime import datetime\n",
    "\n",
    "random_state = 42\n",
    "\n",
    "today = str(datetime.now())\n",
    "filename = f\"bike_demand_finer-search {today}.csv\"\n",
    "filename = \"\".join(i for i in filename if i not in \"\\/:*?<>|\")\n",
    "\n",
    "#num_loop = 100\n",
    "num_loop = 20\n",
    "\n",
    "#kf = StratifiedKFold(n_splits=5, random_state=random_state, shuffle=False)\n",
    "#kf를 multi class에서 쓸수 없다..ValueError: Supported target types are: ('binary', 'multiclass'). Got 'continuous' instead.\n",
    "\n",
    "finer_hyperparameters_list = []\n",
    "\n",
    "for loop in range(num_loop):\n",
    "    n_estimators = np.random.randint(300, 3000)\n",
    "    num_leaves =  np.random.randint(10, 190)\n",
    "    min_child_samples = np.random.randint(10, 150)\n",
    "    min_child_weight = np.random.uniform(0.1, 0.9) \n",
    "    subsample = np.random.uniform(0.4, 0.8) \n",
    "    colsample_bytree = np.random.uniform(0.4, 0.7)\n",
    "    reg_alpha = 10 ** -np.random.uniform(low=3, high=8)\n",
    "    reg_lambda = 10 ** -np.random.uniform(low=5, high=15)\n",
    "    learning_rate = 10 ** -np.random.uniform(low=0.9, high=3)\n",
    "\n",
    "    parameters ={'loop': loop,\n",
    "                 'n_estimators': n_estimators,\n",
    "                 'num_leaves': num_leaves, \n",
    "                 'min_child_samples': min_child_samples, \n",
    "                 'min_child_weight': min_child_weight,\n",
    "                 'subsample': subsample, \n",
    "                 'colsample_bytree': colsample_bytree,\n",
    "                 'reg_alpha': reg_alpha,\n",
    "                 'reg_lambda': reg_lambda,\n",
    "                 'n_estimators': n_estimators,\n",
    "                 'learning_rate' : learning_rate,\n",
    "                 'random_state': random_state}\n",
    "\n",
    "    fit_params = {'verbose':0}\n",
    "    \n",
    "    model = LGBMRegressor(**parameters)\n",
    "    \n",
    "    score = cross_val_score(model, X_train, y_train, cv=20, scoring=rmse_score).mean() \n",
    "    \n",
    "    parameters['score'] = score\n",
    "    \n",
    "    print(f\"{loop:2} best iteration = {parameters['n_estimators']}, Score = {parameters['score']:.6f}\")\n",
    "    \n",
    "    finer_hyperparameters_list.append(parameters)\n",
    "    finer_hyperparameters_data = pd.DataFrame(finer_hyperparameters_list)\n",
    "    finer_hyperparameters_data = finer_hyperparameters_data.sort_values(by=\"score\")\n",
    "    \n",
    "    finer_hyperparameters_data.to_csv(filename)\n",
    "    \n",
    "finer_hyperparameters_data.head(10)"
   ]
  },
  {
   "cell_type": "code",
   "execution_count": 52,
   "metadata": {},
   "outputs": [
    {
     "data": {
      "text/html": [
       "<div>\n",
       "<style scoped>\n",
       "    .dataframe tbody tr th:only-of-type {\n",
       "        vertical-align: middle;\n",
       "    }\n",
       "\n",
       "    .dataframe tbody tr th {\n",
       "        vertical-align: top;\n",
       "    }\n",
       "\n",
       "    .dataframe thead th {\n",
       "        text-align: right;\n",
       "    }\n",
       "</style>\n",
       "<table border=\"1\" class=\"dataframe\">\n",
       "  <thead>\n",
       "    <tr style=\"text-align: right;\">\n",
       "      <th></th>\n",
       "      <th>colsample_bytree</th>\n",
       "      <th>learning_rate</th>\n",
       "      <th>loop</th>\n",
       "      <th>min_child_samples</th>\n",
       "      <th>min_child_weight</th>\n",
       "      <th>n_estimators</th>\n",
       "      <th>num_leaves</th>\n",
       "      <th>random_state</th>\n",
       "      <th>reg_alpha</th>\n",
       "      <th>reg_lambda</th>\n",
       "      <th>score</th>\n",
       "      <th>subsample</th>\n",
       "    </tr>\n",
       "  </thead>\n",
       "  <tbody>\n",
       "    <tr>\n",
       "      <th>2</th>\n",
       "      <td>0.642093</td>\n",
       "      <td>0.007022</td>\n",
       "      <td>2</td>\n",
       "      <td>138</td>\n",
       "      <td>0.290368</td>\n",
       "      <td>1798</td>\n",
       "      <td>117</td>\n",
       "      <td>42</td>\n",
       "      <td>3.188863e-05</td>\n",
       "      <td>9.530112e-14</td>\n",
       "      <td>0.322785</td>\n",
       "      <td>0.554942</td>\n",
       "    </tr>\n",
       "    <tr>\n",
       "      <th>0</th>\n",
       "      <td>0.672226</td>\n",
       "      <td>0.051810</td>\n",
       "      <td>0</td>\n",
       "      <td>16</td>\n",
       "      <td>0.446014</td>\n",
       "      <td>2693</td>\n",
       "      <td>55</td>\n",
       "      <td>42</td>\n",
       "      <td>3.268007e-08</td>\n",
       "      <td>4.585609e-12</td>\n",
       "      <td>0.336823</td>\n",
       "      <td>0.715759</td>\n",
       "    </tr>\n",
       "    <tr>\n",
       "      <th>1</th>\n",
       "      <td>0.675664</td>\n",
       "      <td>0.002336</td>\n",
       "      <td>1</td>\n",
       "      <td>103</td>\n",
       "      <td>0.456928</td>\n",
       "      <td>2391</td>\n",
       "      <td>177</td>\n",
       "      <td>42</td>\n",
       "      <td>1.514197e-08</td>\n",
       "      <td>9.185135e-07</td>\n",
       "      <td>0.338884</td>\n",
       "      <td>0.787813</td>\n",
       "    </tr>\n",
       "    <tr>\n",
       "      <th>3</th>\n",
       "      <td>0.578751</td>\n",
       "      <td>0.039907</td>\n",
       "      <td>3</td>\n",
       "      <td>11</td>\n",
       "      <td>0.139594</td>\n",
       "      <td>1745</td>\n",
       "      <td>161</td>\n",
       "      <td>42</td>\n",
       "      <td>1.323736e-06</td>\n",
       "      <td>3.562342e-14</td>\n",
       "      <td>0.344942</td>\n",
       "      <td>0.632981</td>\n",
       "    </tr>\n",
       "    <tr>\n",
       "      <th>4</th>\n",
       "      <td>0.532239</td>\n",
       "      <td>0.032843</td>\n",
       "      <td>4</td>\n",
       "      <td>35</td>\n",
       "      <td>0.234257</td>\n",
       "      <td>2577</td>\n",
       "      <td>147</td>\n",
       "      <td>42</td>\n",
       "      <td>3.895433e-05</td>\n",
       "      <td>1.858412e-09</td>\n",
       "      <td>0.346465</td>\n",
       "      <td>0.695953</td>\n",
       "    </tr>\n",
       "  </tbody>\n",
       "</table>\n",
       "</div>"
      ],
      "text/plain": [
       "   colsample_bytree  learning_rate  loop  min_child_samples  min_child_weight  \\\n",
       "2          0.642093       0.007022     2                138          0.290368   \n",
       "0          0.672226       0.051810     0                 16          0.446014   \n",
       "1          0.675664       0.002336     1                103          0.456928   \n",
       "3          0.578751       0.039907     3                 11          0.139594   \n",
       "4          0.532239       0.032843     4                 35          0.234257   \n",
       "\n",
       "   n_estimators  num_leaves  random_state     reg_alpha    reg_lambda  \\\n",
       "2          1798         117            42  3.188863e-05  9.530112e-14   \n",
       "0          2693          55            42  3.268007e-08  4.585609e-12   \n",
       "1          2391         177            42  1.514197e-08  9.185135e-07   \n",
       "3          1745         161            42  1.323736e-06  3.562342e-14   \n",
       "4          2577         147            42  3.895433e-05  1.858412e-09   \n",
       "\n",
       "      score  subsample  \n",
       "2  0.322785   0.554942  \n",
       "0  0.336823   0.715759  \n",
       "1  0.338884   0.787813  \n",
       "3  0.344942   0.632981  \n",
       "4  0.346465   0.695953  "
      ]
     },
     "execution_count": 52,
     "metadata": {},
     "output_type": "execute_result"
    }
   ],
   "source": [
    "finer_hyperparameters_data_1 = finer_hyperparameters_data.copy()\n",
    "\n",
    "finer_hyperparameters_data_1.head()"
   ]
  },
  {
   "cell_type": "markdown",
   "metadata": {},
   "source": [
    "### Evaluate"
   ]
  },
  {
   "cell_type": "code",
   "execution_count": 54,
   "metadata": {},
   "outputs": [
    {
     "data": {
      "text/plain": [
       "LGBMRegressor(boosting_type='gbdt', class_weight=None,\n",
       "       colsample_bytree=0.642093, importance_type='split',\n",
       "       learning_rate=0.007022, max_depth=-1, min_child_samples=138,\n",
       "       min_child_weight=0.290368, min_split_gain=0.0, n_estimators=1798,\n",
       "       n_jobs=-1, num_leaves=117, objective=None, random_state=42,\n",
       "       reg_alpha=3.188863e-05, reg_lambda=9.530112e-14, silent=True,\n",
       "       subsample=0.554942, subsample_for_bin=200000, subsample_freq=0)"
      ]
     },
     "execution_count": 54,
     "metadata": {},
     "output_type": "execute_result"
    }
   ],
   "source": [
    "from lightgbm import LGBMRegressor\n",
    "\n",
    "model = LGBMRegressor(learning_rate=0.007022,\n",
    "                       n_estimators=1798,\n",
    "                       num_leaves=117,\n",
    "                       min_child_samples=138,\n",
    "                       min_child_weight=0.290368,\n",
    "                       subsample=0.554942,\n",
    "                       colsample_bytree=0.642093,\n",
    "                       reg_alpha=3.188863e-05,\n",
    "                       reg_lambda=9.530112e-14,\n",
    "                       random_state=42)\n",
    "model"
   ]
  },
  {
   "cell_type": "code",
   "execution_count": 55,
   "metadata": {},
   "outputs": [
    {
     "name": "stdout",
     "output_type": "stream",
     "text": [
      "Score = 0.32294\n"
     ]
    }
   ],
   "source": [
    "from sklearn.model_selection import cross_val_score\n",
    "\n",
    "score = cross_val_score(model, X_train, y_train, cv=20, scoring=rmse_score).mean()\n",
    "\n",
    "print(f\"Score = {score:.5f}\")"
   ]
  },
  {
   "cell_type": "markdown",
   "metadata": {},
   "source": [
    "### Predict"
   ]
  },
  {
   "cell_type": "code",
   "execution_count": 56,
   "metadata": {},
   "outputs": [
    {
     "data": {
      "text/plain": [
       "LGBMRegressor(boosting_type='gbdt', class_weight=None,\n",
       "       colsample_bytree=0.642093, importance_type='split',\n",
       "       learning_rate=0.007022, max_depth=-1, min_child_samples=138,\n",
       "       min_child_weight=0.290368, min_split_gain=0.0, n_estimators=1798,\n",
       "       n_jobs=-1, num_leaves=117, objective=None, random_state=42,\n",
       "       reg_alpha=3.188863e-05, reg_lambda=9.530112e-14, silent=True,\n",
       "       subsample=0.554942, subsample_for_bin=200000, subsample_freq=0)"
      ]
     },
     "execution_count": 56,
     "metadata": {},
     "output_type": "execute_result"
    }
   ],
   "source": [
    "model.fit(X_train, y_train)"
   ]
  },
  {
   "cell_type": "code",
   "execution_count": 57,
   "metadata": {},
   "outputs": [
    {
     "name": "stdout",
     "output_type": "stream",
     "text": [
      "(6493,)\n"
     ]
    },
    {
     "data": {
      "text/plain": [
       "array([2.63486951, 1.90355754, 1.32610997, ..., 4.70927024, 4.40308648,\n",
       "       3.81480927])"
      ]
     },
     "execution_count": 57,
     "metadata": {},
     "output_type": "execute_result"
    }
   ],
   "source": [
    "log_predictions = model.predict(X_test)\n",
    "\n",
    "print(log_predictions.shape)\n",
    "\n",
    "log_predictions"
   ]
  },
  {
   "cell_type": "code",
   "execution_count": 58,
   "metadata": {},
   "outputs": [
    {
     "name": "stdout",
     "output_type": "stream",
     "text": [
      "(6493,)\n"
     ]
    },
    {
     "data": {
      "text/plain": [
       "array([ 12.94149315,   5.70972211,   2.7663636 , ..., 109.97114839,\n",
       "        80.70265389,  44.36810232])"
      ]
     },
     "execution_count": 58,
     "metadata": {},
     "output_type": "execute_result"
    }
   ],
   "source": [
    "predictions = np.exp(log_predictions) - 1\n",
    "\n",
    "print(predictions.shape)\n",
    "\n",
    "predictions"
   ]
  },
  {
   "cell_type": "markdown",
   "metadata": {},
   "source": [
    "### Submit"
   ]
  },
  {
   "cell_type": "code",
   "execution_count": 59,
   "metadata": {},
   "outputs": [
    {
     "name": "stdout",
     "output_type": "stream",
     "text": [
      "(6493, 2)\n"
     ]
    },
    {
     "data": {
      "text/html": [
       "<div>\n",
       "<style scoped>\n",
       "    .dataframe tbody tr th:only-of-type {\n",
       "        vertical-align: middle;\n",
       "    }\n",
       "\n",
       "    .dataframe tbody tr th {\n",
       "        vertical-align: top;\n",
       "    }\n",
       "\n",
       "    .dataframe thead th {\n",
       "        text-align: right;\n",
       "    }\n",
       "</style>\n",
       "<table border=\"1\" class=\"dataframe\">\n",
       "  <thead>\n",
       "    <tr style=\"text-align: right;\">\n",
       "      <th></th>\n",
       "      <th>datetime</th>\n",
       "      <th>count</th>\n",
       "    </tr>\n",
       "  </thead>\n",
       "  <tbody>\n",
       "    <tr>\n",
       "      <th>0</th>\n",
       "      <td>2011-01-20 00:00:00</td>\n",
       "      <td>0</td>\n",
       "    </tr>\n",
       "    <tr>\n",
       "      <th>1</th>\n",
       "      <td>2011-01-20 01:00:00</td>\n",
       "      <td>0</td>\n",
       "    </tr>\n",
       "    <tr>\n",
       "      <th>2</th>\n",
       "      <td>2011-01-20 02:00:00</td>\n",
       "      <td>0</td>\n",
       "    </tr>\n",
       "    <tr>\n",
       "      <th>3</th>\n",
       "      <td>2011-01-20 03:00:00</td>\n",
       "      <td>0</td>\n",
       "    </tr>\n",
       "    <tr>\n",
       "      <th>4</th>\n",
       "      <td>2011-01-20 04:00:00</td>\n",
       "      <td>0</td>\n",
       "    </tr>\n",
       "  </tbody>\n",
       "</table>\n",
       "</div>"
      ],
      "text/plain": [
       "              datetime  count\n",
       "0  2011-01-20 00:00:00      0\n",
       "1  2011-01-20 01:00:00      0\n",
       "2  2011-01-20 02:00:00      0\n",
       "3  2011-01-20 03:00:00      0\n",
       "4  2011-01-20 04:00:00      0"
      ]
     },
     "execution_count": 59,
     "metadata": {},
     "output_type": "execute_result"
    }
   ],
   "source": [
    "submission = pd.read_csv(\"data/sampleSubmission.csv\")\n",
    "\n",
    "print(submission.shape)\n",
    "\n",
    "submission.head()"
   ]
  },
  {
   "cell_type": "code",
   "execution_count": 61,
   "metadata": {},
   "outputs": [
    {
     "name": "stdout",
     "output_type": "stream",
     "text": [
      "(6493, 2)\n"
     ]
    },
    {
     "data": {
      "text/html": [
       "<div>\n",
       "<style scoped>\n",
       "    .dataframe tbody tr th:only-of-type {\n",
       "        vertical-align: middle;\n",
       "    }\n",
       "\n",
       "    .dataframe tbody tr th {\n",
       "        vertical-align: top;\n",
       "    }\n",
       "\n",
       "    .dataframe thead th {\n",
       "        text-align: right;\n",
       "    }\n",
       "</style>\n",
       "<table border=\"1\" class=\"dataframe\">\n",
       "  <thead>\n",
       "    <tr style=\"text-align: right;\">\n",
       "      <th></th>\n",
       "      <th>datetime</th>\n",
       "      <th>count</th>\n",
       "    </tr>\n",
       "  </thead>\n",
       "  <tbody>\n",
       "    <tr>\n",
       "      <th>0</th>\n",
       "      <td>2011-01-20 00:00:00</td>\n",
       "      <td>12.941493</td>\n",
       "    </tr>\n",
       "    <tr>\n",
       "      <th>1</th>\n",
       "      <td>2011-01-20 01:00:00</td>\n",
       "      <td>5.709722</td>\n",
       "    </tr>\n",
       "    <tr>\n",
       "      <th>2</th>\n",
       "      <td>2011-01-20 02:00:00</td>\n",
       "      <td>2.766364</td>\n",
       "    </tr>\n",
       "    <tr>\n",
       "      <th>3</th>\n",
       "      <td>2011-01-20 03:00:00</td>\n",
       "      <td>2.052514</td>\n",
       "    </tr>\n",
       "    <tr>\n",
       "      <th>4</th>\n",
       "      <td>2011-01-20 04:00:00</td>\n",
       "      <td>1.855035</td>\n",
       "    </tr>\n",
       "  </tbody>\n",
       "</table>\n",
       "</div>"
      ],
      "text/plain": [
       "              datetime      count\n",
       "0  2011-01-20 00:00:00  12.941493\n",
       "1  2011-01-20 01:00:00   5.709722\n",
       "2  2011-01-20 02:00:00   2.766364\n",
       "3  2011-01-20 03:00:00   2.052514\n",
       "4  2011-01-20 04:00:00   1.855035"
      ]
     },
     "execution_count": 61,
     "metadata": {},
     "output_type": "execute_result"
    }
   ],
   "source": [
    "submission[\"count\"] = predictions\n",
    "\n",
    "print(submission.shape)\n",
    "\n",
    "submission.head()"
   ]
  },
  {
   "cell_type": "code",
   "execution_count": 62,
   "metadata": {},
   "outputs": [],
   "source": [
    "submission.to_csv(\"data/bike_demand_ligthgbm_0724.csv\", index=False)"
   ]
  }
 ],
 "metadata": {
  "kernelspec": {
   "display_name": "Python 3",
   "language": "python",
   "name": "python3"
  },
  "language_info": {
   "codemirror_mode": {
    "name": "ipython",
    "version": 3
   },
   "file_extension": ".py",
   "mimetype": "text/x-python",
   "name": "python",
   "nbconvert_exporter": "python",
   "pygments_lexer": "ipython3",
   "version": "3.7.3"
  },
  "latex_envs": {
   "LaTeX_envs_menu_present": true,
   "autoclose": true,
   "autocomplete": true,
   "bibliofile": "biblio.bib",
   "cite_by": "apalike",
   "current_citInitial": 1,
   "eqLabelWithNumbers": true,
   "eqNumInitial": 1,
   "hotkeys": {
    "equation": "Ctrl-E",
    "itemize": "Ctrl-I"
   },
   "labels_anchors": false,
   "latex_user_defs": false,
   "report_style_numbering": false,
   "user_envs_cfg": false
  }
 },
 "nbformat": 4,
 "nbformat_minor": 1
}
